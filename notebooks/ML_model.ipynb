{
 "cells": [
  {
   "cell_type": "code",
   "execution_count": 1,
   "id": "c0b5dace-a4d2-4cb5-ae91-91109611f2c1",
   "metadata": {},
   "outputs": [
    {
     "name": "stdout",
     "output_type": "stream",
     "text": [
      "Requirement already satisfied: gensim in c:\\users\\admin\\anaconda3\\lib\\site-packages (4.1.2)\n",
      "Requirement already satisfied: scipy>=0.18.1 in c:\\users\\admin\\anaconda3\\lib\\site-packages (from gensim) (1.7.1)\n",
      "Requirement already satisfied: numpy>=1.17.0 in c:\\users\\admin\\anaconda3\\lib\\site-packages (from gensim) (1.20.3)\n",
      "Requirement already satisfied: smart-open>=1.8.1 in c:\\users\\admin\\anaconda3\\lib\\site-packages (from gensim) (5.2.1)\n",
      "Requirement already satisfied: Cython==0.29.23 in c:\\users\\admin\\anaconda3\\lib\\site-packages (from gensim) (0.29.23)\n"
     ]
    }
   ],
   "source": [
    "!pip install -U gensim"
   ]
  },
  {
   "cell_type": "code",
   "execution_count": 2,
   "id": "9d39e872-bfb3-4d41-a32f-605ecb7430c5",
   "metadata": {},
   "outputs": [],
   "source": [
    "import pandas as pd\n",
    "from sklearn.model_selection import train_test_split\n",
    "from gensim.models import Word2Vec\n",
    "from tqdm import tqdm\n",
    "import numpy as np\n",
    "from sklearn.model_selection import RandomizedSearchCV\n",
    "from sklearn.neighbors import KNeighborsClassifier\n",
    "from sklearn.metrics import roc_curve, auc,classification_report,confusion_matrix\n",
    "import matplotlib.pyplot as plt\n",
    "import seaborn as sns\n",
    "from pathlib import Path\n",
    "import os"
   ]
  },
  {
   "cell_type": "code",
   "execution_count": 3,
   "id": "e0959cad-5390-4cb6-841d-5d0a5eb9b041",
   "metadata": {},
   "outputs": [
    {
     "data": {
      "text/plain": [
       "['.ipynb_checkpoints',\n",
       " 'Home_and_Kitchen.csv',\n",
       " 'Home_and_Kitchen_model.ipynb',\n",
       " 'Home_and_Kitchen_preprocessing.ipynb',\n",
       " 'NLPvenv',\n",
       " 'NLP_project',\n",
       " 'spam_home_kitchen.csv',\n",
       " 'spam_sports.csv',\n",
       " 'spam_sports_balanced.csv',\n",
       " 'spam_sports_test.csv',\n",
       " 'test_spam_home_kitchen.csv',\n",
       " 'text_home_kitchen.csv',\n",
       " 'text_sports.csv',\n",
       " 'text_sports_test.csv']"
      ]
     },
     "execution_count": 3,
     "metadata": {},
     "output_type": "execute_result"
    }
   ],
   "source": [
    "path = Path('F:/')\n",
    "data_path = path/'Projects'\n",
    "os.listdir(data_path)"
   ]
  },
  {
   "cell_type": "code",
   "execution_count": 4,
   "id": "d8e92949-1b8b-483e-8cd4-25797c3d5a57",
   "metadata": {},
   "outputs": [],
   "source": [
    "spam_data = pd.read_csv(data_path/'spam_sports.csv')\n",
    "spam_data = spam_data.dropna()\n",
    "test_data = pd.read_csv(data_path/'spam_sports_test.csv')\n",
    "test_data = test_data.dropna()"
   ]
  },
  {
   "cell_type": "code",
   "execution_count": 5,
   "id": "abc8d20a-35ac-49ef-b1b5-51284951885f",
   "metadata": {},
   "outputs": [
    {
     "data": {
      "text/html": [
       "<div>\n",
       "<style scoped>\n",
       "    .dataframe tbody tr th:only-of-type {\n",
       "        vertical-align: middle;\n",
       "    }\n",
       "\n",
       "    .dataframe tbody tr th {\n",
       "        vertical-align: top;\n",
       "    }\n",
       "\n",
       "    .dataframe thead th {\n",
       "        text-align: right;\n",
       "    }\n",
       "</style>\n",
       "<table border=\"1\" class=\"dataframe\">\n",
       "  <thead>\n",
       "    <tr style=\"text-align: right;\">\n",
       "      <th></th>\n",
       "      <th>Processed Text</th>\n",
       "      <th>class</th>\n",
       "    </tr>\n",
       "  </thead>\n",
       "  <tbody>\n",
       "    <tr>\n",
       "      <th>0</th>\n",
       "      <td>might use dirty rust real alice clip appear mi...</td>\n",
       "      <td>0.0</td>\n",
       "    </tr>\n",
       "    <tr>\n",
       "      <th>1</th>\n",
       "      <td>accurate shot like old school iron site remova...</td>\n",
       "      <td>1.0</td>\n",
       "    </tr>\n",
       "    <tr>\n",
       "      <th>2</th>\n",
       "      <td>great present niece love ride ride come assemb...</td>\n",
       "      <td>1.0</td>\n",
       "    </tr>\n",
       "    <tr>\n",
       "      <th>3</th>\n",
       "      <td>great watch nice seiko watch easy read day dat...</td>\n",
       "      <td>1.0</td>\n",
       "    </tr>\n",
       "    <tr>\n",
       "      <th>4</th>\n",
       "      <td>safe wad value price comfortable use wad boot ...</td>\n",
       "      <td>1.0</td>\n",
       "    </tr>\n",
       "  </tbody>\n",
       "</table>\n",
       "</div>"
      ],
      "text/plain": [
       "                                      Processed Text  class\n",
       "0  might use dirty rust real alice clip appear mi...    0.0\n",
       "1  accurate shot like old school iron site remova...    1.0\n",
       "2  great present niece love ride ride come assemb...    1.0\n",
       "3  great watch nice seiko watch easy read day dat...    1.0\n",
       "4  safe wad value price comfortable use wad boot ...    1.0"
      ]
     },
     "execution_count": 5,
     "metadata": {},
     "output_type": "execute_result"
    }
   ],
   "source": [
    "spam_data.head()"
   ]
  },
  {
   "cell_type": "code",
   "execution_count": null,
   "id": "060f6e28-fad2-4cf5-87ef-6eb24bd177ec",
   "metadata": {},
   "outputs": [],
   "source": []
  },
  {
   "cell_type": "code",
   "execution_count": null,
   "id": "36c509ef-9f0d-4f13-b8ac-2d7701d0005f",
   "metadata": {},
   "outputs": [],
   "source": []
  },
  {
   "cell_type": "code",
   "execution_count": 6,
   "id": "b75b402f-38e9-4abe-82b7-1da0d6c57c4d",
   "metadata": {},
   "outputs": [],
   "source": [
    "X_train = spam_data['Processed Text']\n",
    "Y_train = spam_data['class']"
   ]
  },
  {
   "cell_type": "code",
   "execution_count": 7,
   "id": "941e2b8f-63f6-41a1-ae87-6b4aca4a0d4f",
   "metadata": {},
   "outputs": [],
   "source": [
    "X_test = test_data['Processed Text']\n",
    "Y_test = test_data['class']"
   ]
  },
  {
   "cell_type": "markdown",
   "id": "6066c2a8-e0f5-49fa-ad9c-f94633e4d9a7",
   "metadata": {},
   "source": [
    "Word2Vec"
   ]
  },
  {
   "cell_type": "code",
   "execution_count": 8,
   "id": "5c345049-b22c-4775-b4e9-3611b03dfc56",
   "metadata": {},
   "outputs": [
    {
     "name": "stderr",
     "output_type": "stream",
     "text": [
      "100%|█████████████████████████████████████████████████████████████████████████| 17543/17543 [00:00<00:00, 21643.90it/s]\n"
     ]
    },
    {
     "data": {
      "text/plain": [
       "['might',\n",
       " 'use',\n",
       " 'dirty',\n",
       " 'rust',\n",
       " 'real',\n",
       " 'alice',\n",
       " 'clip',\n",
       " 'appear',\n",
       " 'might',\n",
       " 'use',\n",
       " 'dirty',\n",
       " 'rust',\n",
       " 'likley',\n",
       " 'brand',\n",
       " 'new',\n",
       " 'store',\n",
       " 'correctly',\n",
       " 'per',\n",
       " 'package',\n",
       " 'import',\n",
       " 'vietnam',\n",
       " 'work',\n",
       " 'fine']"
      ]
     },
     "execution_count": 8,
     "metadata": {},
     "output_type": "execute_result"
    }
   ],
   "source": [
    "\n",
    "words_in_sentences=[]\n",
    "for i in tqdm(range(len(spam_data))):\n",
    "    text = spam_data.iloc[i, 0]\n",
    "    words_in_sentences.append(text.split())\n",
    "words_in_sentences[0]"
   ]
  },
  {
   "cell_type": "code",
   "execution_count": 9,
   "id": "688713de-8394-4c53-9c25-f00a9aab3535",
   "metadata": {},
   "outputs": [
    {
     "data": {
      "text/plain": [
       "['great', 'use', 'get', 'good', 'well', 'one', 'work', 'like', 'would', 'make']"
      ]
     },
     "execution_count": 9,
     "metadata": {},
     "output_type": "execute_result"
    }
   ],
   "source": [
    "w = Word2Vec(sentences=words_in_sentences,vector_size = 600)\n",
    "vocab=list(w.wv.key_to_index.keys())\n",
    "vocab[:10]"
   ]
  },
  {
   "cell_type": "code",
   "execution_count": 10,
   "id": "c3bc4210-db32-4099-af40-acbb84480327",
   "metadata": {},
   "outputs": [],
   "source": [
    "#Average Word2Vec is a technique in which the average of word embeddings of all the words given in a sentence is used as the numerical vector for a given sentence.\n",
    "def avg_w2vec(sentences):\n",
    "    transformed=[]\n",
    "    for sentence in tqdm(sentences):\n",
    "        count=0\n",
    "        vector=np.zeros(600)\n",
    "        for word in sentence.split():\n",
    "            if word in vocab:\n",
    "                vector+=w.wv.get_vector(word)\n",
    "                count+=1\n",
    "        if count!=0:\n",
    "            vector/=count\n",
    "            transformed.append(vector)\n",
    "        else:\n",
    "            print(sentence)\n",
    "    return np.array(transformed)"
   ]
  },
  {
   "cell_type": "code",
   "execution_count": 11,
   "id": "9c3ae8eb-6367-4905-9976-33ab26959f05",
   "metadata": {},
   "outputs": [
    {
     "name": "stderr",
     "output_type": "stream",
     "text": [
      "100%|███████████████████████████████████████████████████████████████████████████| 17543/17543 [00:17<00:00, 975.23it/s]\n",
      "100%|█████████████████████████████████████████████████████████████████████████████| 7521/7521 [00:07<00:00, 952.94it/s]\n"
     ]
    }
   ],
   "source": [
    "x_train_transformed=avg_w2vec(X_train)\n",
    "x_test_transformed=avg_w2vec(X_test)"
   ]
  },
  {
   "cell_type": "code",
   "execution_count": 12,
   "id": "28f46a21-d05b-4fda-a962-9786f487d24d",
   "metadata": {},
   "outputs": [
    {
     "name": "stdout",
     "output_type": "stream",
     "text": [
      "Fitting 5 folds for each of 10 candidates, totalling 50 fits\n"
     ]
    },
    {
     "data": {
      "text/plain": [
       "RandomizedSearchCV(estimator=KNeighborsClassifier(), n_jobs=-1,\n",
       "                   param_distributions={'metric': ['manhattan'],\n",
       "                                        'n_neighbors': [5, 10, 15, 20, 25, 30,\n",
       "                                                        35, 40, 45, 50, 55, 60,\n",
       "                                                        65, 70, 75, 80]},\n",
       "                   random_state=0, verbose=1)"
      ]
     },
     "execution_count": 12,
     "metadata": {},
     "output_type": "execute_result"
    }
   ],
   "source": [
    "#Using K-Nearest Neighbors Algorithm to predict whether a given review is Spam or not\n",
    "grid_params = { 'n_neighbors' : [5,10,15,20,25,30,35,40,45,50,55,60,65,70,75,80],\n",
    "               'metric' : ['manhattan']}\n",
    "knn=KNeighborsClassifier()\n",
    "clf = RandomizedSearchCV(knn, grid_params, random_state=0,n_jobs=-1,verbose=1)\n",
    "clf.fit(x_train_transformed,Y_train)"
   ]
  },
  {
   "cell_type": "code",
   "execution_count": 13,
   "id": "1bc91366-81be-4546-b300-5ac83bf337b8",
   "metadata": {},
   "outputs": [
    {
     "data": {
      "text/plain": [
       "{'n_neighbors': 50, 'metric': 'manhattan'}"
      ]
     },
     "execution_count": 13,
     "metadata": {},
     "output_type": "execute_result"
    }
   ],
   "source": [
    "clf.best_params_"
   ]
  },
  {
   "cell_type": "code",
   "execution_count": 14,
   "id": "d7a1dd7b-f346-45cf-ad07-a02df645548f",
   "metadata": {},
   "outputs": [
    {
     "data": {
      "text/plain": [
       "0.6423645111300377"
      ]
     },
     "execution_count": 14,
     "metadata": {},
     "output_type": "execute_result"
    }
   ],
   "source": [
    "clf.best_score_"
   ]
  },
  {
   "cell_type": "code",
   "execution_count": 15,
   "id": "7a765f11-bccc-4fbd-9cb1-090702a748fd",
   "metadata": {},
   "outputs": [
    {
     "data": {
      "text/plain": [
       "{'mean_fit_time': array([0.15591044, 0.16570249, 0.18569131, 0.19009237, 0.18709126,\n",
       "        0.18509259, 0.19448571, 0.18829145, 0.19248772, 0.19528584]),\n",
       " 'std_fit_time': array([0.00993538, 0.00684744, 0.00381308, 0.01409552, 0.01213253,\n",
       "        0.01315886, 0.00699928, 0.01105058, 0.01108677, 0.01801905]),\n",
       " 'mean_score_time': array([115.48748837, 113.39329696, 115.27001333, 113.10626016,\n",
       "        116.1173233 , 114.17324619, 113.95637245, 116.21786442,\n",
       "        111.81500893,  87.00234494]),\n",
       " 'std_score_time': array([ 1.93521505,  2.19110116,  2.1236301 ,  1.97657578,  2.10750108,\n",
       "         2.26316202,  2.29679149,  2.09801142,  0.73235795, 28.12650111]),\n",
       " 'param_n_neighbors': masked_array(data=[10, 35, 45, 50, 70, 25, 15, 75, 55, 40],\n",
       "              mask=[False, False, False, False, False, False, False, False,\n",
       "                    False, False],\n",
       "        fill_value='?',\n",
       "             dtype=object),\n",
       " 'param_metric': masked_array(data=['manhattan', 'manhattan', 'manhattan', 'manhattan',\n",
       "                    'manhattan', 'manhattan', 'manhattan', 'manhattan',\n",
       "                    'manhattan', 'manhattan'],\n",
       "              mask=[False, False, False, False, False, False, False, False,\n",
       "                    False, False],\n",
       "        fill_value='?',\n",
       "             dtype=object),\n",
       " 'params': [{'n_neighbors': 10, 'metric': 'manhattan'},\n",
       "  {'n_neighbors': 35, 'metric': 'manhattan'},\n",
       "  {'n_neighbors': 45, 'metric': 'manhattan'},\n",
       "  {'n_neighbors': 50, 'metric': 'manhattan'},\n",
       "  {'n_neighbors': 70, 'metric': 'manhattan'},\n",
       "  {'n_neighbors': 25, 'metric': 'manhattan'},\n",
       "  {'n_neighbors': 15, 'metric': 'manhattan'},\n",
       "  {'n_neighbors': 75, 'metric': 'manhattan'},\n",
       "  {'n_neighbors': 55, 'metric': 'manhattan'},\n",
       "  {'n_neighbors': 40, 'metric': 'manhattan'}],\n",
       " 'split0_test_score': array([0.61499003, 0.63978341, 0.6337988 , 0.63835851, 0.63864349,\n",
       "        0.63322884, 0.62866914, 0.6369336 , 0.63892847, 0.63436877]),\n",
       " 'split1_test_score': array([0.59931604, 0.62040467, 0.63037903, 0.63408378, 0.63550869,\n",
       "        0.62496438, 0.61869478, 0.63750356, 0.62952408, 0.62581932]),\n",
       " 'split2_test_score': array([0.6323739 , 0.64491308, 0.6523226 , 0.65403249, 0.65317754,\n",
       "        0.65061271, 0.63807353, 0.64804788, 0.65146765, 0.6477629 ]),\n",
       " 'split3_test_score': array([0.61944128, 0.63654504, 0.63882554, 0.64053592, 0.63996579,\n",
       "        0.63854048, 0.63112885, 0.63625998, 0.63939567, 0.63597491]),\n",
       " 'split4_test_score': array([0.62286203, 0.6368301 , 0.63825542, 0.64481186, 0.64367161,\n",
       "        0.6322691 , 0.63283922, 0.64310148, 0.64424173, 0.64395667]),\n",
       " 'mean_test_score': array([0.61779665, 0.63569526, 0.63871628, 0.64236451, 0.64219342,\n",
       "        0.6359231 , 0.6298811 , 0.6403693 , 0.64071152, 0.63757651]),\n",
       " 'std_test_score': array([0.01086526, 0.00821576, 0.00747058, 0.00678371, 0.00608418,\n",
       "        0.00852455, 0.00638789, 0.00454595, 0.00718646, 0.00768837]),\n",
       " 'rank_test_score': array([10,  8,  5,  1,  2,  7,  9,  4,  3,  6])}"
      ]
     },
     "execution_count": 15,
     "metadata": {},
     "output_type": "execute_result"
    }
   ],
   "source": [
    "clf.cv_results_"
   ]
  },
  {
   "cell_type": "code",
   "execution_count": 16,
   "id": "2c9a8504-3946-4311-be80-7ca56b2b8896",
   "metadata": {},
   "outputs": [],
   "source": [
    "train_fpr,train_tpr,thresholds=roc_curve(Y_train,clf.predict_proba(x_train_transformed)[:,1])\n",
    "test_fpr,test_tpr,thresholds=roc_curve(Y_test,clf.predict_proba(x_test_transformed)[:,1])"
   ]
  },
  {
   "cell_type": "code",
   "execution_count": 17,
   "id": "cf78f22d-c883-442d-837b-6ac94e75fb30",
   "metadata": {},
   "outputs": [
    {
     "data": {
      "image/png": "[encoded data removed]",
      "text/plain": [
       "<Figure size 432x288 with 1 Axes>"
      ]
     },
     "metadata": {
      "needs_background": "light"
     },
     "output_type": "display_data"
    }
   ],
   "source": [
    "\n",
    "plt.plot(train_fpr,train_tpr,label=\"Training Accuracy=\"+str(round(auc(train_fpr, train_tpr),2)))\n",
    "plt.plot(test_fpr,test_tpr,label=\"Testing Accuracy =\"+str(round(auc(test_fpr, test_tpr),2)))\n",
    "plt.scatter(train_fpr,train_tpr,label=\"Training Accuracy=\"+str(round(auc(train_fpr, train_tpr),2)))\n",
    "plt.scatter(test_fpr,test_tpr,label=\"Testing Accuracy =\"+str(round(auc(test_fpr, test_tpr),2)))\n",
    "plt.legend()\n",
    "plt.xlabel(\"Thresholds\")\n",
    "plt.ylabel(\"ACCURACY\")\n",
    "plt.title(\"Training and Testing ROC Curves\")\n",
    "plt.show()"
   ]
  },
  {
   "cell_type": "code",
   "execution_count": 18,
   "id": "bd61b2d8-d172-4ef1-97e0-8ea54145641b",
   "metadata": {},
   "outputs": [],
   "source": [
    "clf_pred = clf.predict(x_test_transformed)\n",
    "cff_train_pred= clf.predict(x_train_transformed)"
   ]
  },
  {
   "cell_type": "code",
   "execution_count": 19,
   "id": "75de906d-4e1b-4e79-8d1f-56fa33bd8bb2",
   "metadata": {},
   "outputs": [
    {
     "data": {
      "image/png": "[encoded data removed]",
      "text/plain": [
       "<Figure size 432x288 with 2 Axes>"
      ]
     },
     "metadata": {
      "needs_background": "light"
     },
     "output_type": "display_data"
    }
   ],
   "source": [
    "sns.heatmap(confusion_matrix(Y_train,cff_train_pred),annot=True)\n",
    "plt.show()"
   ]
  },
  {
   "cell_type": "code",
   "execution_count": 20,
   "id": "1d1c97f0-6467-4379-9f39-f9784ae55535",
   "metadata": {},
   "outputs": [
    {
     "name": "stdout",
     "output_type": "stream",
     "text": [
      "Accuracy score:  0.6639115316650516\n",
      "Precision score:  0.6189735614307932\n",
      "Recall score:  0.8282080924855492\n",
      "F1 score:  0.7084651898734177\n"
     ]
    }
   ],
   "source": [
    "from sklearn.metrics import accuracy_score,precision_score,recall_score,f1_score\n",
    "print('Accuracy score: ', format(accuracy_score(Y_train,cff_train_pred)))\n",
    "print('Precision score: ', format(precision_score(Y_train,cff_train_pred)))\n",
    "print('Recall score: ', format(recall_score(Y_train,cff_train_pred)))\n",
    "print('F1 score: ', format(f1_score(Y_train,cff_train_pred)))"
   ]
  },
  {
   "cell_type": "code",
   "execution_count": 21,
   "id": "c126d10e-1bc4-4f4e-8452-bfb127c3025c",
   "metadata": {},
   "outputs": [
    {
     "data": {
      "image/png": "[encoded data removed]",
      "text/plain": [
       "<Figure size 432x288 with 2 Axes>"
      ]
     },
     "metadata": {
      "needs_background": "light"
     },
     "output_type": "display_data"
    }
   ],
   "source": [
    "sns.heatmap(confusion_matrix(Y_test,clf_pred),annot=True)\n",
    "plt.show()"
   ]
  },
  {
   "cell_type": "code",
   "execution_count": 22,
   "id": "1ebebbe1-0c6a-466a-b78b-69d815baebd2",
   "metadata": {},
   "outputs": [
    {
     "name": "stdout",
     "output_type": "stream",
     "text": [
      "Accuracy score:  0.6455258609227497\n",
      "Precision score:  0.6093153985143546\n",
      "Recall score:  0.8082556591211718\n",
      "F1 score:  0.6948260073260074\n"
     ]
    }
   ],
   "source": [
    "from sklearn.metrics import accuracy_score,precision_score,recall_score,f1_score\n",
    "print('Accuracy score: ', format(accuracy_score(Y_test,clf_pred)))\n",
    "print('Precision score: ', format(precision_score(Y_test,clf_pred)))\n",
    "print('Recall score: ', format(recall_score(Y_test,clf_pred)))\n",
    "print('F1 score: ', format(f1_score(Y_test,clf_pred)))"
   ]
  },
  {
   "cell_type": "code",
   "execution_count": 23,
   "id": "0d7efff3-18ae-4791-86d6-d4479818ddd8",
   "metadata": {},
   "outputs": [
    {
     "name": "stdout",
     "output_type": "stream",
     "text": [
      "Accuracy score:  0.48572080031921566\n",
      "Precision score:  0.3302919708029197\n",
      "Recall score:  0.04184971098265896\n",
      "F1 score:  0.07428688692797045\n"
     ]
    }
   ],
   "source": [
    "from sklearn.metrics import accuracy_score\n",
    "from sklearn.svm import SVC\n",
    "\n",
    "svc = SVC(kernel = 'sigmoid', gamma = 1.0)\n",
    "svc.fit(x_train_transformed, Y_train)\n",
    "\n",
    "Y_pred = svc.predict(x_train_transformed)\n",
    "Y_test_pred = svc.predict(x_test_transformed)\n",
    "from sklearn.metrics import accuracy_score,precision_score,recall_score,f1_score\n",
    "print('Accuracy score: ', format(accuracy_score(Y_pred,Y_train )))\n",
    "print('Precision score: ', format(precision_score(Y_train,Y_pred)))\n",
    "print('Recall score: ', format(recall_score(Y_train, Y_pred)))\n",
    "print('F1 score: ', format(f1_score(Y_train, Y_pred)))"
   ]
  },
  {
   "cell_type": "code",
   "execution_count": 24,
   "id": "99345322-cd4a-4bcf-966b-560f5d9a896b",
   "metadata": {},
   "outputs": [
    {
     "data": {
      "image/png": "[encoded data removed]",
      "text/plain": [
       "<Figure size 432x288 with 2 Axes>"
      ]
     },
     "metadata": {
      "needs_background": "light"
     },
     "output_type": "display_data"
    }
   ],
   "source": [
    "sns.heatmap(confusion_matrix(Y_train,Y_pred),annot=True)\n",
    "plt.show()"
   ]
  },
  {
   "cell_type": "code",
   "execution_count": 25,
   "id": "f9fc2e52-16d8-4891-901e-e66e14a340f2",
   "metadata": {},
   "outputs": [
    {
     "name": "stdout",
     "output_type": "stream",
     "text": [
      "Accuracy score:  0.48145193458316715\n",
      "Precision score:  0.346723044397463\n",
      "Recall score:  0.04367509986684421\n",
      "F1 score:  0.07757805108798486\n"
     ]
    }
   ],
   "source": [
    "from sklearn.metrics import accuracy_score,precision_score,recall_score,f1_score\n",
    "print('Accuracy score: ', format(accuracy_score(Y_test,Y_test_pred)))\n",
    "print('Precision score: ', format(precision_score(Y_test,Y_test_pred)))\n",
    "print('Recall score: ', format(recall_score(Y_test,Y_test_pred)))\n",
    "print('F1 score: ', format(f1_score(Y_test,Y_test_pred)))"
   ]
  },
  {
   "cell_type": "code",
   "execution_count": 26,
   "id": "fd955808-23ed-4c16-a878-4fc7e53791c0",
   "metadata": {},
   "outputs": [
    {
     "data": {
      "image/png": "[encoded data removed]",
      "text/plain": [
       "<Figure size 432x288 with 2 Axes>"
      ]
     },
     "metadata": {
      "needs_background": "light"
     },
     "output_type": "display_data"
    }
   ],
   "source": [
    "sns.heatmap(confusion_matrix(Y_test,Y_test_pred),annot=True)\n",
    "plt.show()"
   ]
  }
 ],
 "metadata": {
  "kernelspec": {
   "display_name": "Python 3 (ipykernel)",
   "language": "python",
   "name": "python3"
  },
  "language_info": {
   "codemirror_mode": {
    "name": "ipython",
    "version": 3
   },
   "file_extension": ".py",
   "mimetype": "text/x-python",
   "name": "python",
   "nbconvert_exporter": "python",
   "pygments_lexer": "ipython3",
   "version": "3.9.7"
  }
 },
 "nbformat": 4,
 "nbformat_minor": 5
}
