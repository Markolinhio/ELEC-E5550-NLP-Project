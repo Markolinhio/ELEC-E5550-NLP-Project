{
 "cells": [
  {
   "cell_type": "code",
   "execution_count": 1,
   "id": "c0b5dace-a4d2-4cb5-ae91-91109611f2c1",
   "metadata": {},
   "outputs": [
    {
     "name": "stdout",
     "output_type": "stream",
     "text": [
      "Requirement already satisfied: gensim in c:\\users\\admin\\anaconda3\\lib\\site-packages (4.1.2)\n",
      "Requirement already satisfied: smart-open>=1.8.1 in c:\\users\\admin\\anaconda3\\lib\\site-packages (from gensim) (5.2.1)\n",
      "Requirement already satisfied: scipy>=0.18.1 in c:\\users\\admin\\anaconda3\\lib\\site-packages (from gensim) (1.7.1)\n",
      "Requirement already satisfied: Cython==0.29.23 in c:\\users\\admin\\anaconda3\\lib\\site-packages (from gensim) (0.29.23)\n",
      "Requirement already satisfied: numpy>=1.17.0 in c:\\users\\admin\\anaconda3\\lib\\site-packages (from gensim) (1.20.3)\n"
     ]
    }
   ],
   "source": [
    "!pip install -U gensim"
   ]
  },
  {
   "cell_type": "code",
   "execution_count": 2,
   "id": "9d39e872-bfb3-4d41-a32f-605ecb7430c5",
   "metadata": {},
   "outputs": [],
   "source": [
    "import pandas as pd\n",
    "from sklearn.model_selection import train_test_split\n",
    "from gensim.models import Word2Vec\n",
    "from tqdm import tqdm\n",
    "import numpy as np\n",
    "from sklearn.model_selection import RandomizedSearchCV\n",
    "from sklearn.neighbors import KNeighborsClassifier\n",
    "from sklearn.metrics import roc_curve, auc,classification_report,confusion_matrix\n",
    "import matplotlib.pyplot as plt\n",
    "import seaborn as sns"
   ]
  },
  {
   "cell_type": "code",
   "execution_count": 3,
   "id": "d8e92949-1b8b-483e-8cd4-25797c3d5a57",
   "metadata": {},
   "outputs": [],
   "source": [
    "spam_data = pd.read_csv('spam_home_kitchen.csv')\n",
    "test_data = pd.read_csv('test_spam_home_kitchen.csv')"
   ]
  },
  {
   "cell_type": "code",
   "execution_count": 4,
   "id": "abc8d20a-35ac-49ef-b1b5-51284951885f",
   "metadata": {},
   "outputs": [
    {
     "data": {
      "text/html": [
       "<div>\n",
       "<style scoped>\n",
       "    .dataframe tbody tr th:only-of-type {\n",
       "        vertical-align: middle;\n",
       "    }\n",
       "\n",
       "    .dataframe tbody tr th {\n",
       "        vertical-align: top;\n",
       "    }\n",
       "\n",
       "    .dataframe thead th {\n",
       "        text-align: right;\n",
       "    }\n",
       "</style>\n",
       "<table border=\"1\" class=\"dataframe\">\n",
       "  <thead>\n",
       "    <tr style=\"text-align: right;\">\n",
       "      <th></th>\n",
       "      <th>Unnamed: 0</th>\n",
       "      <th>Processed Text</th>\n",
       "      <th>class</th>\n",
       "    </tr>\n",
       "  </thead>\n",
       "  <tbody>\n",
       "    <tr>\n",
       "      <th>0</th>\n",
       "      <td>0</td>\n",
       "      <td>recommend great chef test cook cooking tool ea...</td>\n",
       "      <td>1.0</td>\n",
       "    </tr>\n",
       "    <tr>\n",
       "      <th>1</th>\n",
       "      <td>1</td>\n",
       "      <td>great pump work perfectly happy purchase thank...</td>\n",
       "      <td>1.0</td>\n",
       "    </tr>\n",
       "    <tr>\n",
       "      <th>2</th>\n",
       "      <td>2</td>\n",
       "      <td>beauty function saw pattern online corelle sco...</td>\n",
       "      <td>1.0</td>\n",
       "    </tr>\n",
       "    <tr>\n",
       "      <th>3</th>\n",
       "      <td>3</td>\n",
       "      <td>red neck wine glass wonderful use wedding toas...</td>\n",
       "      <td>1.0</td>\n",
       "    </tr>\n",
       "    <tr>\n",
       "      <th>4</th>\n",
       "      <td>4</td>\n",
       "      <td>stay away handle body make cheap plastic never...</td>\n",
       "      <td>0.0</td>\n",
       "    </tr>\n",
       "  </tbody>\n",
       "</table>\n",
       "</div>"
      ],
      "text/plain": [
       "   Unnamed: 0                                     Processed Text  class\n",
       "0           0  recommend great chef test cook cooking tool ea...    1.0\n",
       "1           1  great pump work perfectly happy purchase thank...    1.0\n",
       "2           2  beauty function saw pattern online corelle sco...    1.0\n",
       "3           3  red neck wine glass wonderful use wedding toas...    1.0\n",
       "4           4  stay away handle body make cheap plastic never...    0.0"
      ]
     },
     "execution_count": 4,
     "metadata": {},
     "output_type": "execute_result"
    }
   ],
   "source": [
    "spam_data.head()"
   ]
  },
  {
   "cell_type": "code",
   "execution_count": 5,
   "id": "060f6e28-fad2-4cf5-87ef-6eb24bd177ec",
   "metadata": {},
   "outputs": [
    {
     "name": "stdout",
     "output_type": "stream",
     "text": [
      "13960\n",
      "2865\n",
      "11095\n",
      "2865\n"
     ]
    },
    {
     "data": {
      "text/html": [
       "<div>\n",
       "<style scoped>\n",
       "    .dataframe tbody tr th:only-of-type {\n",
       "        vertical-align: middle;\n",
       "    }\n",
       "\n",
       "    .dataframe tbody tr th {\n",
       "        vertical-align: top;\n",
       "    }\n",
       "\n",
       "    .dataframe thead th {\n",
       "        text-align: right;\n",
       "    }\n",
       "</style>\n",
       "<table border=\"1\" class=\"dataframe\">\n",
       "  <thead>\n",
       "    <tr style=\"text-align: right;\">\n",
       "      <th></th>\n",
       "      <th>Unnamed: 0</th>\n",
       "      <th>Processed Text</th>\n",
       "      <th>class</th>\n",
       "    </tr>\n",
       "  </thead>\n",
       "  <tbody>\n",
       "    <tr>\n",
       "      <th>6746</th>\n",
       "      <td>6746</td>\n",
       "      <td>pretty thin king bed get king size duvet turn ...</td>\n",
       "      <td>1.0</td>\n",
       "    </tr>\n",
       "    <tr>\n",
       "      <th>2398</th>\n",
       "      <td>2398</td>\n",
       "      <td>great product easy use great job exracting jui...</td>\n",
       "      <td>1.0</td>\n",
       "    </tr>\n",
       "    <tr>\n",
       "      <th>4179</th>\n",
       "      <td>4179</td>\n",
       "      <td>great rv home bought use rv since draw watt pu...</td>\n",
       "      <td>1.0</td>\n",
       "    </tr>\n",
       "    <tr>\n",
       "      <th>2491</th>\n",
       "      <td>2491</td>\n",
       "      <td>great value price expect much spresso machine ...</td>\n",
       "      <td>1.0</td>\n",
       "    </tr>\n",
       "    <tr>\n",
       "      <th>196</th>\n",
       "      <td>196</td>\n",
       "      <td>work advertised problem work terrific cautious...</td>\n",
       "      <td>1.0</td>\n",
       "    </tr>\n",
       "    <tr>\n",
       "      <th>...</th>\n",
       "      <td>...</td>\n",
       "      <td>...</td>\n",
       "      <td>...</td>\n",
       "    </tr>\n",
       "    <tr>\n",
       "      <th>8496</th>\n",
       "      <td>8496</td>\n",
       "      <td>herb keeper wife love item specifically look s...</td>\n",
       "      <td>1.0</td>\n",
       "    </tr>\n",
       "    <tr>\n",
       "      <th>3101</th>\n",
       "      <td>3101</td>\n",
       "      <td>beautiful useful fan live e texas hurricane al...</td>\n",
       "      <td>1.0</td>\n",
       "    </tr>\n",
       "    <tr>\n",
       "      <th>11098</th>\n",
       "      <td>11098</td>\n",
       "      <td>great protect book cooking holder great keep s...</td>\n",
       "      <td>1.0</td>\n",
       "    </tr>\n",
       "    <tr>\n",
       "      <th>7863</th>\n",
       "      <td>7863</td>\n",
       "      <td>use daily use daily work never sweat keep drin...</td>\n",
       "      <td>1.0</td>\n",
       "    </tr>\n",
       "    <tr>\n",
       "      <th>12199</th>\n",
       "      <td>12199</td>\n",
       "      <td>expensive worth trash fit perfectly tiny bathr...</td>\n",
       "      <td>1.0</td>\n",
       "    </tr>\n",
       "  </tbody>\n",
       "</table>\n",
       "<p>2865 rows × 3 columns</p>\n",
       "</div>"
      ],
      "text/plain": [
       "       Unnamed: 0                                     Processed Text  class\n",
       "6746         6746  pretty thin king bed get king size duvet turn ...    1.0\n",
       "2398         2398  great product easy use great job exracting jui...    1.0\n",
       "4179         4179  great rv home bought use rv since draw watt pu...    1.0\n",
       "2491         2491  great value price expect much spresso machine ...    1.0\n",
       "196           196  work advertised problem work terrific cautious...    1.0\n",
       "...           ...                                                ...    ...\n",
       "8496         8496  herb keeper wife love item specifically look s...    1.0\n",
       "3101         3101  beautiful useful fan live e texas hurricane al...    1.0\n",
       "11098       11098  great protect book cooking holder great keep s...    1.0\n",
       "7863         7863  use daily use daily work never sweat keep drin...    1.0\n",
       "12199       12199  expensive worth trash fit perfectly tiny bathr...    1.0\n",
       "\n",
       "[2865 rows x 3 columns]"
      ]
     },
     "execution_count": 5,
     "metadata": {},
     "output_type": "execute_result"
    }
   ],
   "source": [
    "class_0 = spam_data[spam_data['class']==0.]\n",
    "print(len(spam_data))\n",
    "print(len(class_0))\n",
    "class_1 = spam_data[spam_data['class']==1.]\n",
    "print(len(class_1))\n",
    "class_1 = class_1.sample(n = len(class_0))\n",
    "print(len(class_1))\n",
    "class_1"
   ]
  },
  {
   "cell_type": "code",
   "execution_count": 6,
   "id": "36c509ef-9f0d-4f13-b8ac-2d7701d0005f",
   "metadata": {},
   "outputs": [],
   "source": [
    "reb_data = pd.concat((class_0,class_1)).reset_index(drop=True)"
   ]
  },
  {
   "cell_type": "code",
   "execution_count": 7,
   "id": "b75b402f-38e9-4abe-82b7-1da0d6c57c4d",
   "metadata": {},
   "outputs": [],
   "source": [
    "X_train = reb_data['Processed Text']\n",
    "Y_train = reb_data['class']"
   ]
  },
  {
   "cell_type": "code",
   "execution_count": 8,
   "id": "1800ebb2-dbac-4f47-9f2b-6c247b93ccf8",
   "metadata": {},
   "outputs": [],
   "source": [
    "class_0 = test_data[test_data['class']==0.]\n",
    "class_1 = test_data[test_data['class']==1.]\n",
    "class_1 = class_1.sample(n = len(class_0))"
   ]
  },
  {
   "cell_type": "code",
   "execution_count": 9,
   "id": "dbd149bc-7a9a-4fcd-b684-7b71fa9fde2b",
   "metadata": {},
   "outputs": [],
   "source": [
    "test_reb_data = pd.concat((class_0,class_1)).reset_index(drop=True)"
   ]
  },
  {
   "cell_type": "code",
   "execution_count": 10,
   "id": "941e2b8f-63f6-41a1-ae87-6b4aca4a0d4f",
   "metadata": {},
   "outputs": [],
   "source": [
    "X_test = test_reb_data['Processed Text']\n",
    "Y_test = test_reb_data['class']"
   ]
  },
  {
   "cell_type": "markdown",
   "id": "6066c2a8-e0f5-49fa-ad9c-f94633e4d9a7",
   "metadata": {},
   "source": [
    "Word2Vec"
   ]
  },
  {
   "cell_type": "code",
   "execution_count": 11,
   "id": "5c345049-b22c-4775-b4e9-3611b03dfc56",
   "metadata": {},
   "outputs": [
    {
     "name": "stderr",
     "output_type": "stream",
     "text": [
      "100%|██████████████████████████████████████████████████████████████████████████| 5730/5730 [00:00<00:00, 150803.24it/s]\n"
     ]
    }
   ],
   "source": [
    "words_in_sentences=[]\n",
    "for i in tqdm(X_train):\n",
    "    words_in_sentences.append(i.split())"
   ]
  },
  {
   "cell_type": "code",
   "execution_count": 12,
   "id": "688713de-8394-4c53-9c25-f00a9aab3535",
   "metadata": {},
   "outputs": [],
   "source": [
    "model = Word2Vec(sentences=words_in_sentences,vector_size = 300)"
   ]
  },
  {
   "cell_type": "code",
   "execution_count": 13,
   "id": "3e4652c7-13eb-4fa9-b3f7-330f6a29b393",
   "metadata": {},
   "outputs": [
    {
     "name": "stdout",
     "output_type": "stream",
     "text": [
      "3647\n"
     ]
    }
   ],
   "source": [
    "#Total number of words in the Vocabulary on which the Word2Vec model is trained.\n",
    "vocab=list(model.wv.key_to_index.keys())\n",
    "print(len(vocab))"
   ]
  },
  {
   "cell_type": "code",
   "execution_count": 14,
   "id": "c3bc4210-db32-4099-af40-acbb84480327",
   "metadata": {},
   "outputs": [],
   "source": [
    "#Average Word2Vec is a technique in which the average of word embeddings of all the words given in a sentence is used as the numerical vector for a given sentence.\n",
    "def avg_w2vec(sentences):\n",
    "    transformed=[]\n",
    "    for sentence in tqdm(sentences):\n",
    "        count=0\n",
    "        vector=np.zeros(300)\n",
    "        for word in sentence.split():\n",
    "            if word in vocab:\n",
    "                vector+=model.wv.get_vector(word)\n",
    "                count+=1\n",
    "        if count!=0:\n",
    "            vector/=count\n",
    "            transformed.append(vector)\n",
    "        else:\n",
    "            print(sentence)\n",
    "    return np.array(transformed)"
   ]
  },
  {
   "cell_type": "code",
   "execution_count": 15,
   "id": "9c3ae8eb-6367-4905-9976-33ab26959f05",
   "metadata": {},
   "outputs": [
    {
     "name": "stderr",
     "output_type": "stream",
     "text": [
      "100%|████████████████████████████████████████████████████████████████████████████| 5730/5730 [00:05<00:00, 1033.21it/s]\n",
      "100%|████████████████████████████████████████████████████████████████████████████| 2502/2502 [00:02<00:00, 1032.34it/s]\n"
     ]
    }
   ],
   "source": [
    "x_train_transformed=avg_w2vec(X_train)\n",
    "x_test_transformed=avg_w2vec(X_test)"
   ]
  },
  {
   "cell_type": "code",
   "execution_count": 16,
   "id": "28f46a21-d05b-4fda-a962-9786f487d24d",
   "metadata": {},
   "outputs": [
    {
     "name": "stdout",
     "output_type": "stream",
     "text": [
      "Fitting 5 folds for each of 10 candidates, totalling 50 fits\n"
     ]
    },
    {
     "data": {
      "text/plain": [
       "RandomizedSearchCV(estimator=KNeighborsClassifier(), n_jobs=-1,\n",
       "                   param_distributions={'metric': ['manhattan'],\n",
       "                                        'n_neighbors': [5, 10, 15, 20, 25, 30,\n",
       "                                                        35, 40, 45, 50, 55, 60,\n",
       "                                                        65, 70, 75, 80]},\n",
       "                   random_state=0, verbose=1)"
      ]
     },
     "execution_count": 16,
     "metadata": {},
     "output_type": "execute_result"
    }
   ],
   "source": [
    "#Using K-Nearest Neighbors Algorithm to predict whether a given review is Spam or not\n",
    "grid_params = { 'n_neighbors' : [5,10,15,20,25,30,35,40,45,50,55,60,65,70,75,80],\n",
    "               'metric' : ['manhattan']}\n",
    "knn=KNeighborsClassifier()\n",
    "clf = RandomizedSearchCV(knn, grid_params, random_state=0,n_jobs=-1,verbose=1)\n",
    "clf.fit(x_train_transformed,Y_train)"
   ]
  },
  {
   "cell_type": "code",
   "execution_count": 17,
   "id": "1bc91366-81be-4546-b300-5ac83bf337b8",
   "metadata": {},
   "outputs": [
    {
     "data": {
      "text/plain": [
       "{'n_neighbors': 55, 'metric': 'manhattan'}"
      ]
     },
     "execution_count": 17,
     "metadata": {},
     "output_type": "execute_result"
    }
   ],
   "source": [
    "clf.best_params_"
   ]
  },
  {
   "cell_type": "code",
   "execution_count": 18,
   "id": "d7a1dd7b-f346-45cf-ad07-a02df645548f",
   "metadata": {},
   "outputs": [
    {
     "data": {
      "text/plain": [
       "0.6356020942408377"
      ]
     },
     "execution_count": 18,
     "metadata": {},
     "output_type": "execute_result"
    }
   ],
   "source": [
    "clf.best_score_"
   ]
  },
  {
   "cell_type": "code",
   "execution_count": 19,
   "id": "7a765f11-bccc-4fbd-9cb1-090702a748fd",
   "metadata": {},
   "outputs": [
    {
     "data": {
      "text/plain": [
       "{'mean_fit_time': array([0.02578492, 0.0307817 , 0.03138161, 0.03038259, 0.03238153,\n",
       "        0.0327806 , 0.03438058, 0.03238149, 0.03198085, 0.03537879]),\n",
       " 'std_fit_time': array([0.00159895, 0.00116507, 0.00195858, 0.0020583 , 0.00162308,\n",
       "        0.0023993 , 0.00422087, 0.00079944, 0.00316025, 0.0066472 ]),\n",
       " 'mean_score_time': array([6.08490763, 6.0813098 , 6.00575337, 5.9108068 , 6.04852834,\n",
       "        5.95078506, 5.93259387, 6.02574039, 5.86783233, 4.73588514]),\n",
       " 'std_score_time': array([0.18245385, 0.21867338, 0.10924387, 0.11154355, 0.12634847,\n",
       "        0.12296038, 0.12042146, 0.06777695, 0.06653819, 1.16536486]),\n",
       " 'param_n_neighbors': masked_array(data=[10, 35, 45, 50, 70, 25, 15, 75, 55, 40],\n",
       "              mask=[False, False, False, False, False, False, False, False,\n",
       "                    False, False],\n",
       "        fill_value='?',\n",
       "             dtype=object),\n",
       " 'param_metric': masked_array(data=['manhattan', 'manhattan', 'manhattan', 'manhattan',\n",
       "                    'manhattan', 'manhattan', 'manhattan', 'manhattan',\n",
       "                    'manhattan', 'manhattan'],\n",
       "              mask=[False, False, False, False, False, False, False, False,\n",
       "                    False, False],\n",
       "        fill_value='?',\n",
       "             dtype=object),\n",
       " 'params': [{'n_neighbors': 10, 'metric': 'manhattan'},\n",
       "  {'n_neighbors': 35, 'metric': 'manhattan'},\n",
       "  {'n_neighbors': 45, 'metric': 'manhattan'},\n",
       "  {'n_neighbors': 50, 'metric': 'manhattan'},\n",
       "  {'n_neighbors': 70, 'metric': 'manhattan'},\n",
       "  {'n_neighbors': 25, 'metric': 'manhattan'},\n",
       "  {'n_neighbors': 15, 'metric': 'manhattan'},\n",
       "  {'n_neighbors': 75, 'metric': 'manhattan'},\n",
       "  {'n_neighbors': 55, 'metric': 'manhattan'},\n",
       "  {'n_neighbors': 40, 'metric': 'manhattan'}],\n",
       " 'split0_test_score': array([0.62478185, 0.64572426, 0.65968586, 0.66666667, 0.65881326,\n",
       "        0.65881326, 0.64223386, 0.65183246, 0.66928447, 0.65357766]),\n",
       " 'split1_test_score': array([0.60820244, 0.62041885, 0.61954625, 0.63001745, 0.62565445,\n",
       "        0.61431065, 0.62041885, 0.62216405, 0.62041885, 0.61867365]),\n",
       " 'split2_test_score': array([0.59773124, 0.59773124, 0.61343805, 0.61954625, 0.61082024,\n",
       "        0.61605585, 0.61692845, 0.61431065, 0.61867365, 0.60645724]),\n",
       " 'split3_test_score': array([0.61780105, 0.63263525, 0.64223386, 0.62652705, 0.63001745,\n",
       "        0.63089005, 0.63350785, 0.64048866, 0.63612565, 0.63699825]),\n",
       " 'split4_test_score': array([0.61343805, 0.62041885, 0.63176265, 0.62565445, 0.63176265,\n",
       "        0.62041885, 0.60732984, 0.64485166, 0.63350785, 0.63263525]),\n",
       " 'mean_test_score': array([0.61239092, 0.62338569, 0.63333333, 0.63368237, 0.63141361,\n",
       "        0.62809773, 0.62408377, 0.63472949, 0.63560209, 0.62966841]),\n",
       " 'std_test_score': array([0.00912525, 0.01587653, 0.01650484, 0.01683373, 0.01555678,\n",
       "        0.01640303, 0.0123577 , 0.01416303, 0.01820036, 0.01608617]),\n",
       " 'rank_test_score': array([10,  9,  4,  3,  5,  7,  8,  2,  1,  6])}"
      ]
     },
     "execution_count": 19,
     "metadata": {},
     "output_type": "execute_result"
    }
   ],
   "source": [
    "clf.cv_results_"
   ]
  },
  {
   "cell_type": "code",
   "execution_count": 20,
   "id": "2c9a8504-3946-4311-be80-7ca56b2b8896",
   "metadata": {},
   "outputs": [],
   "source": [
    "train_fpr,train_tpr,thresholds=roc_curve(Y_train,clf.predict_proba(x_train_transformed)[:,1])\n",
    "test_fpr,test_tpr,thresholds=roc_curve(Y_test,clf.predict_proba(x_test_transformed)[:,1])"
   ]
  },
  {
   "cell_type": "code",
   "execution_count": 21,
   "id": "cf78f22d-c883-442d-837b-6ac94e75fb30",
   "metadata": {},
   "outputs": [
    {
     "data": {
      "image/png": "[encoded data removed]",
      "text/plain": [
       "<Figure size 432x288 with 1 Axes>"
      ]
     },
     "metadata": {
      "needs_background": "light"
     },
     "output_type": "display_data"
    }
   ],
   "source": [
    "\n",
    "plt.plot(train_fpr,train_tpr,label=\"Training Accuracy=\"+str(round(auc(train_fpr, train_tpr),2)))\n",
    "plt.plot(test_fpr,test_tpr,label=\"Testing Accuracy =\"+str(round(auc(test_fpr, test_tpr),2)))\n",
    "plt.scatter(train_fpr,train_tpr,label=\"Training Accuracy=\"+str(round(auc(train_fpr, train_tpr),2)))\n",
    "plt.scatter(test_fpr,test_tpr,label=\"Testing Accuracy =\"+str(round(auc(test_fpr, test_tpr),2)))\n",
    "plt.legend()\n",
    "plt.xlabel(\"Thresholds\")\n",
    "plt.ylabel(\"ACCURACY\")\n",
    "plt.title(\"Training and Testing ROC Curves\")\n",
    "plt.show()"
   ]
  },
  {
   "cell_type": "code",
   "execution_count": 22,
   "id": "75de906d-4e1b-4e79-8d1f-56fa33bd8bb2",
   "metadata": {},
   "outputs": [
    {
     "data": {
      "image/png": "[encoded data removed]",
      "text/plain": [
       "<Figure size 432x288 with 2 Axes>"
      ]
     },
     "metadata": {
      "needs_background": "light"
     },
     "output_type": "display_data"
    }
   ],
   "source": [
    "sns.heatmap(confusion_matrix(Y_train,clf.predict(x_train_transformed)),annot=True)\n",
    "plt.show()"
   ]
  },
  {
   "cell_type": "code",
   "execution_count": 23,
   "id": "27a7df40-f7c3-46cf-b74d-5f7a30832a1e",
   "metadata": {},
   "outputs": [
    {
     "name": "stdout",
     "output_type": "stream",
     "text": [
      "              precision    recall  f1-score   support\n",
      "\n",
      "         0.0       0.66      0.66      0.66      2865\n",
      "         1.0       0.66      0.66      0.66      2865\n",
      "\n",
      "    accuracy                           0.66      5730\n",
      "   macro avg       0.66      0.66      0.66      5730\n",
      "weighted avg       0.66      0.66      0.66      5730\n",
      "\n"
     ]
    }
   ],
   "source": [
    "print(classification_report(Y_train,clf.predict(x_train_transformed)))"
   ]
  },
  {
   "cell_type": "code",
   "execution_count": 24,
   "id": "c126d10e-1bc4-4f4e-8452-bfb127c3025c",
   "metadata": {},
   "outputs": [
    {
     "data": {
      "image/png": "[encoded data removed]",
      "text/plain": [
       "<Figure size 432x288 with 2 Axes>"
      ]
     },
     "metadata": {
      "needs_background": "light"
     },
     "output_type": "display_data"
    }
   ],
   "source": [
    "sns.heatmap(confusion_matrix(Y_test,clf.predict(x_test_transformed)),annot=True)\n",
    "plt.show()"
   ]
  },
  {
   "cell_type": "code",
   "execution_count": 25,
   "id": "1ebebbe1-0c6a-466a-b78b-69d815baebd2",
   "metadata": {},
   "outputs": [
    {
     "name": "stdout",
     "output_type": "stream",
     "text": [
      "              precision    recall  f1-score   support\n",
      "\n",
      "         0.0       0.64      0.66      0.65      1251\n",
      "         1.0       0.65      0.63      0.64      1251\n",
      "\n",
      "    accuracy                           0.65      2502\n",
      "   macro avg       0.65      0.65      0.65      2502\n",
      "weighted avg       0.65      0.65      0.65      2502\n",
      "\n"
     ]
    }
   ],
   "source": [
    "print(classification_report(Y_test,clf.predict(x_test_transformed)))"
   ]
  },
  {
   "cell_type": "code",
   "execution_count": 26,
   "id": "0d7efff3-18ae-4791-86d6-d4479818ddd8",
   "metadata": {},
   "outputs": [
    {
     "data": {
      "text/plain": [
       "0.504396482813749"
      ]
     },
     "execution_count": 26,
     "metadata": {},
     "output_type": "execute_result"
    }
   ],
   "source": [
    "from sklearn.metrics import accuracy_score\n",
    "from sklearn.svm import SVC\n",
    "\n",
    "svc = SVC(kernel = 'sigmoid', gamma = 1.0)\n",
    "svc.fit(x_train_transformed, Y_train)\n",
    "\n",
    "Y_pred = svc.predict(x_test_transformed)\n",
    "accuracy_score(Y_test, Y_pred)"
   ]
  }
 ],
 "metadata": {
  "kernelspec": {
   "display_name": "Python 3 (ipykernel)",
   "language": "python",
   "name": "python3"
  },
  "language_info": {
   "codemirror_mode": {
    "name": "ipython",
    "version": 3
   },
   "file_extension": ".py",
   "mimetype": "text/x-python",
   "name": "python",
   "nbconvert_exporter": "python",
   "pygments_lexer": "ipython3",
   "version": "3.9.7"
  }
 },
 "nbformat": 4,
 "nbformat_minor": 5
}
