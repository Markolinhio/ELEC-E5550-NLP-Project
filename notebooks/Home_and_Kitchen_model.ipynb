{
 "cells": [
  {
   "cell_type": "code",
   "execution_count": 1,
   "id": "c0b5dace-a4d2-4cb5-ae91-91109611f2c1",
   "metadata": {},
   "outputs": [
    {
     "name": "stdout",
     "output_type": "stream",
     "text": [
      "Requirement already satisfied: gensim in c:\\users\\admin\\anaconda3\\lib\\site-packages (4.1.2)\n",
      "Requirement already satisfied: numpy>=1.17.0 in c:\\users\\admin\\anaconda3\\lib\\site-packages (from gensim) (1.20.3)\n",
      "Requirement already satisfied: smart-open>=1.8.1 in c:\\users\\admin\\anaconda3\\lib\\site-packages (from gensim) (5.2.1)\n",
      "Requirement already satisfied: scipy>=0.18.1 in c:\\users\\admin\\anaconda3\\lib\\site-packages (from gensim) (1.7.1)\n",
      "Requirement already satisfied: Cython==0.29.23 in c:\\users\\admin\\anaconda3\\lib\\site-packages (from gensim) (0.29.23)\n"
     ]
    }
   ],
   "source": [
    "!pip install -U gensim"
   ]
  },
  {
   "cell_type": "code",
   "execution_count": 2,
   "id": "9d39e872-bfb3-4d41-a32f-605ecb7430c5",
   "metadata": {},
   "outputs": [],
   "source": [
    "import pandas as pd\n",
    "from sklearn.model_selection import train_test_split\n",
    "from gensim.models import Word2Vec\n",
    "from tqdm import tqdm\n",
    "import numpy as np\n",
    "from sklearn.model_selection import RandomizedSearchCV\n",
    "from sklearn.neighbors import KNeighborsClassifier\n",
    "from sklearn.metrics import roc_curve, auc,classification_report,confusion_matrix\n",
    "import matplotlib.pyplot as plt\n",
    "import seaborn as sns"
   ]
  },
  {
   "cell_type": "code",
   "execution_count": 3,
   "id": "d8e92949-1b8b-483e-8cd4-25797c3d5a57",
   "metadata": {},
   "outputs": [],
   "source": [
    "spam_data = pd.read_csv('spam_home_kitchen.csv')\n",
    "test_data = pd.read_csv('test_spam_home_kitchen.csv')"
   ]
  },
  {
   "cell_type": "code",
   "execution_count": 4,
   "id": "abc8d20a-35ac-49ef-b1b5-51284951885f",
   "metadata": {},
   "outputs": [
    {
     "data": {
      "text/html": [
       "<div>\n",
       "<style scoped>\n",
       "    .dataframe tbody tr th:only-of-type {\n",
       "        vertical-align: middle;\n",
       "    }\n",
       "\n",
       "    .dataframe tbody tr th {\n",
       "        vertical-align: top;\n",
       "    }\n",
       "\n",
       "    .dataframe thead th {\n",
       "        text-align: right;\n",
       "    }\n",
       "</style>\n",
       "<table border=\"1\" class=\"dataframe\">\n",
       "  <thead>\n",
       "    <tr style=\"text-align: right;\">\n",
       "      <th></th>\n",
       "      <th>Unnamed: 0</th>\n",
       "      <th>Processed Text</th>\n",
       "      <th>class</th>\n",
       "    </tr>\n",
       "  </thead>\n",
       "  <tbody>\n",
       "    <tr>\n",
       "      <th>0</th>\n",
       "      <td>0</td>\n",
       "      <td>recommend great chef test cook cooking tool ea...</td>\n",
       "      <td>1.0</td>\n",
       "    </tr>\n",
       "    <tr>\n",
       "      <th>1</th>\n",
       "      <td>1</td>\n",
       "      <td>great pump work perfectly happy purchase thank...</td>\n",
       "      <td>1.0</td>\n",
       "    </tr>\n",
       "    <tr>\n",
       "      <th>2</th>\n",
       "      <td>2</td>\n",
       "      <td>beauty function saw pattern online corelle sco...</td>\n",
       "      <td>1.0</td>\n",
       "    </tr>\n",
       "    <tr>\n",
       "      <th>3</th>\n",
       "      <td>3</td>\n",
       "      <td>red neck wine glass wonderful use wedding toas...</td>\n",
       "      <td>1.0</td>\n",
       "    </tr>\n",
       "    <tr>\n",
       "      <th>4</th>\n",
       "      <td>4</td>\n",
       "      <td>stay away handle body make cheap plastic never...</td>\n",
       "      <td>0.0</td>\n",
       "    </tr>\n",
       "  </tbody>\n",
       "</table>\n",
       "</div>"
      ],
      "text/plain": [
       "   Unnamed: 0                                     Processed Text  class\n",
       "0           0  recommend great chef test cook cooking tool ea...    1.0\n",
       "1           1  great pump work perfectly happy purchase thank...    1.0\n",
       "2           2  beauty function saw pattern online corelle sco...    1.0\n",
       "3           3  red neck wine glass wonderful use wedding toas...    1.0\n",
       "4           4  stay away handle body make cheap plastic never...    0.0"
      ]
     },
     "execution_count": 4,
     "metadata": {},
     "output_type": "execute_result"
    }
   ],
   "source": [
    "spam_data.head()"
   ]
  },
  {
   "cell_type": "code",
   "execution_count": 5,
   "id": "060f6e28-fad2-4cf5-87ef-6eb24bd177ec",
   "metadata": {},
   "outputs": [
    {
     "name": "stdout",
     "output_type": "stream",
     "text": [
      "13960\n",
      "2865\n",
      "11095\n",
      "2865\n"
     ]
    },
    {
     "data": {
      "text/html": [
       "<div>\n",
       "<style scoped>\n",
       "    .dataframe tbody tr th:only-of-type {\n",
       "        vertical-align: middle;\n",
       "    }\n",
       "\n",
       "    .dataframe tbody tr th {\n",
       "        vertical-align: top;\n",
       "    }\n",
       "\n",
       "    .dataframe thead th {\n",
       "        text-align: right;\n",
       "    }\n",
       "</style>\n",
       "<table border=\"1\" class=\"dataframe\">\n",
       "  <thead>\n",
       "    <tr style=\"text-align: right;\">\n",
       "      <th></th>\n",
       "      <th>Unnamed: 0</th>\n",
       "      <th>Processed Text</th>\n",
       "      <th>class</th>\n",
       "    </tr>\n",
       "  </thead>\n",
       "  <tbody>\n",
       "    <tr>\n",
       "      <th>11622</th>\n",
       "      <td>11622</td>\n",
       "      <td>work great hey funnel let get carry away fit f...</td>\n",
       "      <td>1.0</td>\n",
       "    </tr>\n",
       "    <tr>\n",
       "      <th>9328</th>\n",
       "      <td>9328</td>\n",
       "      <td>great sharpener never get good edge plain manu...</td>\n",
       "      <td>1.0</td>\n",
       "    </tr>\n",
       "    <tr>\n",
       "      <th>1484</th>\n",
       "      <td>1484</td>\n",
       "      <td>really cool mom huge doctor fan get poster fra...</td>\n",
       "      <td>1.0</td>\n",
       "    </tr>\n",
       "    <tr>\n",
       "      <th>2397</th>\n",
       "      <td>2397</td>\n",
       "      <td>go wrong lodge cast iron pleased find inch ski...</td>\n",
       "      <td>1.0</td>\n",
       "    </tr>\n",
       "    <tr>\n",
       "      <th>3700</th>\n",
       "      <td>3700</td>\n",
       "      <td>wash season over-trusted pre-seasoning dutch o...</td>\n",
       "      <td>1.0</td>\n",
       "    </tr>\n",
       "    <tr>\n",
       "      <th>...</th>\n",
       "      <td>...</td>\n",
       "      <td>...</td>\n",
       "      <td>...</td>\n",
       "    </tr>\n",
       "    <tr>\n",
       "      <th>8906</th>\n",
       "      <td>8906</td>\n",
       "      <td>stir long kinda thin feel well price paid happ...</td>\n",
       "      <td>1.0</td>\n",
       "    </tr>\n",
       "    <tr>\n",
       "      <th>7820</th>\n",
       "      <td>7820</td>\n",
       "      <td>like get much faster thought look nice item fi...</td>\n",
       "      <td>1.0</td>\n",
       "    </tr>\n",
       "    <tr>\n",
       "      <th>12796</th>\n",
       "      <td>12796</td>\n",
       "      <td>cook grill rock seriously farthest thing chef ...</td>\n",
       "      <td>1.0</td>\n",
       "    </tr>\n",
       "    <tr>\n",
       "      <th>1884</th>\n",
       "      <td>1884</td>\n",
       "      <td>really like pepper mill use william bound pepp...</td>\n",
       "      <td>1.0</td>\n",
       "    </tr>\n",
       "    <tr>\n",
       "      <th>7420</th>\n",
       "      <td>7420</td>\n",
       "      <td>cuddlesome yet supportive pillow try type pill...</td>\n",
       "      <td>1.0</td>\n",
       "    </tr>\n",
       "  </tbody>\n",
       "</table>\n",
       "<p>2865 rows × 3 columns</p>\n",
       "</div>"
      ],
      "text/plain": [
       "       Unnamed: 0                                     Processed Text  class\n",
       "11622       11622  work great hey funnel let get carry away fit f...    1.0\n",
       "9328         9328  great sharpener never get good edge plain manu...    1.0\n",
       "1484         1484  really cool mom huge doctor fan get poster fra...    1.0\n",
       "2397         2397  go wrong lodge cast iron pleased find inch ski...    1.0\n",
       "3700         3700  wash season over-trusted pre-seasoning dutch o...    1.0\n",
       "...           ...                                                ...    ...\n",
       "8906         8906  stir long kinda thin feel well price paid happ...    1.0\n",
       "7820         7820  like get much faster thought look nice item fi...    1.0\n",
       "12796       12796  cook grill rock seriously farthest thing chef ...    1.0\n",
       "1884         1884  really like pepper mill use william bound pepp...    1.0\n",
       "7420         7420  cuddlesome yet supportive pillow try type pill...    1.0\n",
       "\n",
       "[2865 rows x 3 columns]"
      ]
     },
     "execution_count": 5,
     "metadata": {},
     "output_type": "execute_result"
    }
   ],
   "source": [
    "class_0 = spam_data[spam_data['class']==0.]\n",
    "print(len(spam_data))\n",
    "print(len(class_0))\n",
    "class_1 = spam_data[spam_data['class']==1.]\n",
    "print(len(class_1))\n",
    "class_1 = class_1.sample(n = len(class_0))\n",
    "print(len(class_1))\n",
    "class_1"
   ]
  },
  {
   "cell_type": "code",
   "execution_count": 6,
   "id": "36c509ef-9f0d-4f13-b8ac-2d7701d0005f",
   "metadata": {},
   "outputs": [],
   "source": [
    "reb_data = pd.concat((class_0,class_1)).reset_index(drop=True)"
   ]
  },
  {
   "cell_type": "code",
   "execution_count": 7,
   "id": "b75b402f-38e9-4abe-82b7-1da0d6c57c4d",
   "metadata": {},
   "outputs": [],
   "source": [
    "X_train = reb_data['Processed Text']\n",
    "Y_train = reb_data['class']"
   ]
  },
  {
   "cell_type": "code",
   "execution_count": 8,
   "id": "1800ebb2-dbac-4f47-9f2b-6c247b93ccf8",
   "metadata": {},
   "outputs": [],
   "source": [
    "class_0 = test_data[test_data['class']==0.]\n",
    "class_1 = test_data[test_data['class']==1.]\n",
    "class_1 = class_1.sample(n = len(class_0))"
   ]
  },
  {
   "cell_type": "code",
   "execution_count": 9,
   "id": "dbd149bc-7a9a-4fcd-b684-7b71fa9fde2b",
   "metadata": {},
   "outputs": [],
   "source": [
    "test_reb_data = pd.concat((class_0,class_1)).reset_index(drop=True)"
   ]
  },
  {
   "cell_type": "code",
   "execution_count": 10,
   "id": "941e2b8f-63f6-41a1-ae87-6b4aca4a0d4f",
   "metadata": {},
   "outputs": [],
   "source": [
    "X_test = test_reb_data['Processed Text']\n",
    "Y_test = test_reb_data['class']"
   ]
  },
  {
   "cell_type": "markdown",
   "id": "6066c2a8-e0f5-49fa-ad9c-f94633e4d9a7",
   "metadata": {},
   "source": [
    "Word2Vec"
   ]
  },
  {
   "cell_type": "code",
   "execution_count": 11,
   "id": "5c345049-b22c-4775-b4e9-3611b03dfc56",
   "metadata": {},
   "outputs": [
    {
     "name": "stderr",
     "output_type": "stream",
     "text": [
      "100%|██████████████████████████████████████████████████████████████████████████| 5730/5730 [00:00<00:00, 139845.11it/s]\n"
     ]
    }
   ],
   "source": [
    "words_in_sentences=[]\n",
    "for i in tqdm(X_train):\n",
    "    words_in_sentences.append(i.split())"
   ]
  },
  {
   "cell_type": "code",
   "execution_count": 12,
   "id": "688713de-8394-4c53-9c25-f00a9aab3535",
   "metadata": {},
   "outputs": [],
   "source": [
    "model = Word2Vec(sentences=words_in_sentences,vector_size = 300)"
   ]
  },
  {
   "cell_type": "code",
   "execution_count": 13,
   "id": "3e4652c7-13eb-4fa9-b3f7-330f6a29b393",
   "metadata": {},
   "outputs": [
    {
     "name": "stdout",
     "output_type": "stream",
     "text": [
      "3667\n"
     ]
    }
   ],
   "source": [
    "#Total number of words in the Vocabulary on which the Word2Vec model is trained.\n",
    "vocab=list(model.wv.key_to_index.keys())\n",
    "print(len(vocab))"
   ]
  },
  {
   "cell_type": "code",
   "execution_count": 14,
   "id": "c3bc4210-db32-4099-af40-acbb84480327",
   "metadata": {},
   "outputs": [],
   "source": [
    "#Average Word2Vec is a technique in which the average of word embeddings of all the words given in a sentence is used as the numerical vector for a given sentence.\n",
    "def avg_w2vec(sentences):\n",
    "    transformed=[]\n",
    "    for sentence in tqdm(sentences):\n",
    "        count=0\n",
    "        vector=np.zeros(300)\n",
    "        for word in sentence.split():\n",
    "            if word in vocab:\n",
    "                vector+=model.wv.get_vector(word)\n",
    "                count+=1\n",
    "        if count!=0:\n",
    "            vector/=count\n",
    "            transformed.append(vector)\n",
    "        else:\n",
    "            print(sentence)\n",
    "    return np.array(transformed)"
   ]
  },
  {
   "cell_type": "code",
   "execution_count": 15,
   "id": "9c3ae8eb-6367-4905-9976-33ab26959f05",
   "metadata": {},
   "outputs": [
    {
     "name": "stderr",
     "output_type": "stream",
     "text": [
      "100%|████████████████████████████████████████████████████████████████████████████| 5730/5730 [00:05<00:00, 1040.71it/s]\n",
      "100%|████████████████████████████████████████████████████████████████████████████| 2502/2502 [00:02<00:00, 1020.97it/s]\n"
     ]
    }
   ],
   "source": [
    "x_train_transformed=avg_w2vec(X_train)\n",
    "x_test_transformed=avg_w2vec(X_test)"
   ]
  },
  {
   "cell_type": "code",
   "execution_count": 16,
   "id": "28f46a21-d05b-4fda-a962-9786f487d24d",
   "metadata": {},
   "outputs": [
    {
     "name": "stdout",
     "output_type": "stream",
     "text": [
      "Fitting 5 folds for each of 10 candidates, totalling 50 fits\n"
     ]
    },
    {
     "data": {
      "text/plain": [
       "RandomizedSearchCV(estimator=KNeighborsClassifier(), n_jobs=-1,\n",
       "                   param_distributions={'metric': ['manhattan'],\n",
       "                                        'n_neighbors': [5, 10, 15, 20, 25, 30,\n",
       "                                                        35, 40, 45, 50, 55, 60,\n",
       "                                                        65, 70, 75, 80]},\n",
       "                   random_state=0, verbose=1)"
      ]
     },
     "execution_count": 16,
     "metadata": {},
     "output_type": "execute_result"
    }
   ],
   "source": [
    "#Using K-Nearest Neighbors Algorithm to predict whether a given review is Spam or not\n",
    "grid_params = { 'n_neighbors' : [5,10,15,20,25,30,35,40,45,50,55,60,65,70,75,80],\n",
    "               'metric' : ['manhattan']}\n",
    "knn=KNeighborsClassifier()\n",
    "clf = RandomizedSearchCV(knn, grid_params, random_state=0,n_jobs=-1,verbose=1)\n",
    "clf.fit(x_train_transformed,Y_train)"
   ]
  },
  {
   "cell_type": "code",
   "execution_count": 17,
   "id": "1bc91366-81be-4546-b300-5ac83bf337b8",
   "metadata": {},
   "outputs": [
    {
     "data": {
      "text/plain": [
       "{'n_neighbors': 55, 'metric': 'manhattan'}"
      ]
     },
     "execution_count": 17,
     "metadata": {},
     "output_type": "execute_result"
    }
   ],
   "source": [
    "clf.best_params_"
   ]
  },
  {
   "cell_type": "code",
   "execution_count": 18,
   "id": "d7a1dd7b-f346-45cf-ad07-a02df645548f",
   "metadata": {},
   "outputs": [
    {
     "data": {
      "text/plain": [
       "0.6376963350785341"
      ]
     },
     "execution_count": 18,
     "metadata": {},
     "output_type": "execute_result"
    }
   ],
   "source": [
    "clf.best_score_"
   ]
  },
  {
   "cell_type": "code",
   "execution_count": 19,
   "id": "7a765f11-bccc-4fbd-9cb1-090702a748fd",
   "metadata": {},
   "outputs": [
    {
     "data": {
      "text/plain": [
       "{'mean_fit_time': array([0.02418685, 0.02538476, 0.02718439, 0.0267849 , 0.02658439,\n",
       "        0.02598529, 0.02738433, 0.02738452, 0.02578473, 0.02778373]),\n",
       " 'std_fit_time': array([0.00039971, 0.00079979, 0.00193776, 0.00171895, 0.00101946,\n",
       "        0.00089378, 0.00162357, 0.00101899, 0.00074807, 0.00074848]),\n",
       " 'mean_score_time': array([5.19002061, 5.19202056, 5.17083168, 5.19002004, 5.18782272,\n",
       "        5.20321274, 5.14824481, 5.16483498, 5.12146068, 4.09524851]),\n",
       " 'std_score_time': array([0.02040481, 0.03547597, 0.02646034, 0.01650721, 0.01752107,\n",
       "        0.02582674, 0.02504896, 0.01141976, 0.02997269, 1.26095484]),\n",
       " 'param_n_neighbors': masked_array(data=[10, 35, 45, 50, 70, 25, 15, 75, 55, 40],\n",
       "              mask=[False, False, False, False, False, False, False, False,\n",
       "                    False, False],\n",
       "        fill_value='?',\n",
       "             dtype=object),\n",
       " 'param_metric': masked_array(data=['manhattan', 'manhattan', 'manhattan', 'manhattan',\n",
       "                    'manhattan', 'manhattan', 'manhattan', 'manhattan',\n",
       "                    'manhattan', 'manhattan'],\n",
       "              mask=[False, False, False, False, False, False, False, False,\n",
       "                    False, False],\n",
       "        fill_value='?',\n",
       "             dtype=object),\n",
       " 'params': [{'n_neighbors': 10, 'metric': 'manhattan'},\n",
       "  {'n_neighbors': 35, 'metric': 'manhattan'},\n",
       "  {'n_neighbors': 45, 'metric': 'manhattan'},\n",
       "  {'n_neighbors': 50, 'metric': 'manhattan'},\n",
       "  {'n_neighbors': 70, 'metric': 'manhattan'},\n",
       "  {'n_neighbors': 25, 'metric': 'manhattan'},\n",
       "  {'n_neighbors': 15, 'metric': 'manhattan'},\n",
       "  {'n_neighbors': 75, 'metric': 'manhattan'},\n",
       "  {'n_neighbors': 55, 'metric': 'manhattan'},\n",
       "  {'n_neighbors': 40, 'metric': 'manhattan'}],\n",
       " 'split0_test_score': array([0.60383944, 0.64485166, 0.65095986, 0.65532286, 0.65445026,\n",
       "        0.64136126, 0.62827225, 0.66143106, 0.65881326, 0.65532286]),\n",
       " 'split1_test_score': array([0.63176265, 0.62827225, 0.62478185, 0.63874346, 0.63612565,\n",
       "        0.62216405, 0.63699825, 0.63176265, 0.64572426, 0.63874346]),\n",
       " 'split2_test_score': array([0.60209424, 0.61431065, 0.62303665, 0.62652705, 0.60907504,\n",
       "        0.60732984, 0.61082024, 0.61605585, 0.62652705, 0.61518325]),\n",
       " 'split3_test_score': array([0.61954625, 0.63350785, 0.63350785, 0.63089005, 0.63787086,\n",
       "        0.63961606, 0.61518325, 0.63874346, 0.63089005, 0.63089005]),\n",
       " 'split4_test_score': array([0.63874346, 0.62216405, 0.62478185, 0.62303665, 0.63612565,\n",
       "        0.62739965, 0.61954625, 0.63350785, 0.62652705, 0.63089005]),\n",
       " 'mean_test_score': array([0.61919721, 0.62862129, 0.63141361, 0.63490401, 0.63472949,\n",
       "        0.62757417, 0.62216405, 0.63630017, 0.63769634, 0.63420593]),\n",
       " 'std_test_score': array([0.01461807, 0.01033359, 0.01043624, 0.01147859, 0.01456589,\n",
       "        0.01244366, 0.00939819, 0.01466799, 0.01269806, 0.01304122]),\n",
       " 'rank_test_score': array([10,  7,  6,  3,  4,  8,  9,  2,  1,  5])}"
      ]
     },
     "execution_count": 19,
     "metadata": {},
     "output_type": "execute_result"
    }
   ],
   "source": [
    "clf.cv_results_"
   ]
  },
  {
   "cell_type": "code",
   "execution_count": 20,
   "id": "2c9a8504-3946-4311-be80-7ca56b2b8896",
   "metadata": {},
   "outputs": [],
   "source": [
    "train_fpr,train_tpr,thresholds=roc_curve(Y_train,clf.predict_proba(x_train_transformed)[:,1])\n",
    "test_fpr,test_tpr,thresholds=roc_curve(Y_test,clf.predict_proba(x_test_transformed)[:,1])"
   ]
  },
  {
   "cell_type": "code",
   "execution_count": 21,
   "id": "cf78f22d-c883-442d-837b-6ac94e75fb30",
   "metadata": {},
   "outputs": [
    {
     "data": {
      "image/png": "[encoded data removed]",
      "text/plain": [
       "<Figure size 432x288 with 1 Axes>"
      ]
     },
     "metadata": {
      "needs_background": "light"
     },
     "output_type": "display_data"
    }
   ],
   "source": [
    "\n",
    "plt.plot(train_fpr,train_tpr,label=\"Training Accuracy=\"+str(round(auc(train_fpr, train_tpr),2)))\n",
    "plt.plot(test_fpr,test_tpr,label=\"Testing Accuracy =\"+str(round(auc(test_fpr, test_tpr),2)))\n",
    "plt.scatter(train_fpr,train_tpr,label=\"Training Accuracy=\"+str(round(auc(train_fpr, train_tpr),2)))\n",
    "plt.scatter(test_fpr,test_tpr,label=\"Testing Accuracy =\"+str(round(auc(test_fpr, test_tpr),2)))\n",
    "plt.legend()\n",
    "plt.xlabel(\"Thresholds\")\n",
    "plt.ylabel(\"ACCURACY\")\n",
    "plt.title(\"Training and Testing ROC Curves\")\n",
    "plt.show()"
   ]
  },
  {
   "cell_type": "code",
   "execution_count": 22,
   "id": "bd61b2d8-d172-4ef1-97e0-8ea54145641b",
   "metadata": {},
   "outputs": [],
   "source": [
    "clf_pred = clf.predict(x_test_transformed)\n",
    "cff_train_pred= clf.predict(x_train_transformed)"
   ]
  },
  {
   "cell_type": "code",
   "execution_count": 23,
   "id": "75de906d-4e1b-4e79-8d1f-56fa33bd8bb2",
   "metadata": {},
   "outputs": [
    {
     "data": {
      "image/png": "[encoded data removed]",
      "text/plain": [
       "<Figure size 432x288 with 2 Axes>"
      ]
     },
     "metadata": {
      "needs_background": "light"
     },
     "output_type": "display_data"
    }
   ],
   "source": [
    "sns.heatmap(confusion_matrix(Y_train,cff_train_pred),annot=True)\n",
    "plt.show()"
   ]
  },
  {
   "cell_type": "code",
   "execution_count": 24,
   "id": "27a7df40-f7c3-46cf-b74d-5f7a30832a1e",
   "metadata": {},
   "outputs": [
    {
     "name": "stdout",
     "output_type": "stream",
     "text": [
      "              precision    recall  f1-score   support\n",
      "\n",
      "         0.0       0.66      0.69      0.68      2865\n",
      "         1.0       0.68      0.65      0.66      2865\n",
      "\n",
      "    accuracy                           0.67      5730\n",
      "   macro avg       0.67      0.67      0.67      5730\n",
      "weighted avg       0.67      0.67      0.67      5730\n",
      "\n"
     ]
    }
   ],
   "source": [
    "print(classification_report(Y_train,cff_train_pred))"
   ]
  },
  {
   "cell_type": "code",
   "execution_count": 25,
   "id": "c126d10e-1bc4-4f4e-8452-bfb127c3025c",
   "metadata": {},
   "outputs": [
    {
     "data": {
      "image/png": "[encoded data removed]",
      "text/plain": [
       "<Figure size 432x288 with 2 Axes>"
      ]
     },
     "metadata": {
      "needs_background": "light"
     },
     "output_type": "display_data"
    }
   ],
   "source": [
    "sns.heatmap(confusion_matrix(Y_test,clf_pred),annot=True)\n",
    "plt.show()"
   ]
  },
  {
   "cell_type": "code",
   "execution_count": 26,
   "id": "1ebebbe1-0c6a-466a-b78b-69d815baebd2",
   "metadata": {},
   "outputs": [
    {
     "name": "stdout",
     "output_type": "stream",
     "text": [
      "              precision    recall  f1-score   support\n",
      "\n",
      "         0.0       0.66      0.67      0.67      1251\n",
      "         1.0       0.67      0.66      0.66      1251\n",
      "\n",
      "    accuracy                           0.67      2502\n",
      "   macro avg       0.67      0.67      0.67      2502\n",
      "weighted avg       0.67      0.67      0.67      2502\n",
      "\n"
     ]
    }
   ],
   "source": [
    "print(classification_report(Y_test,clf_pred))"
   ]
  },
  {
   "cell_type": "code",
   "execution_count": 28,
   "id": "f9fc2e52-16d8-4891-901e-e66e14a340f2",
   "metadata": {},
   "outputs": [
    {
     "name": "stdout",
     "output_type": "stream",
     "text": [
      "Accuracy score:  0.6650679456434853\n",
      "Precision score:  0.6655974338412189\n",
      "Recall score:  0.6634692246203038\n",
      "F1 score:  0.6645316253002402\n"
     ]
    }
   ],
   "source": [
    "from sklearn.metrics import accuracy_score,precision_score,recall_score,f1_score\n",
    "print('Accuracy score: ', format(accuracy_score(Y_test,clf_pred)))\n",
    "print('Precision score: ', format(precision_score(Y_test,clf_pred)))\n",
    "print('Recall score: ', format(recall_score(Y_test,clf_pred)))\n",
    "print('F1 score: ', format(f1_score(Y_test,clf_pred)))"
   ]
  },
  {
   "cell_type": "code",
   "execution_count": 29,
   "id": "0d7efff3-18ae-4791-86d6-d4479818ddd8",
   "metadata": {},
   "outputs": [
    {
     "name": "stdout",
     "output_type": "stream",
     "text": [
      "Accuracy score:  0.5375699440447642\n",
      "Precision score:  0.5226396917148363\n",
      "Recall score:  0.8673061550759392\n",
      "F1 score:  0.6522392545837091\n"
     ]
    }
   ],
   "source": [
    "from sklearn.metrics import accuracy_score\n",
    "from sklearn.svm import SVC\n",
    "\n",
    "svc = SVC(kernel = 'sigmoid', gamma = 1.0)\n",
    "svc.fit(x_train_transformed, Y_train)\n",
    "\n",
    "Y_pred = svc.predict(x_test_transformed)\n",
    "from sklearn.metrics import accuracy_score,precision_score,recall_score,f1_score\n",
    "print('Accuracy score: ', format(accuracy_score(Y_pred,Y_test )))\n",
    "print('Precision score: ', format(precision_score(Y_test,Y_pred)))\n",
    "print('Recall score: ', format(recall_score(Y_test, Y_pred)))\n",
    "print('F1 score: ', format(f1_score(Y_test, Y_pred)))"
   ]
  },
  {
   "cell_type": "code",
   "execution_count": 30,
   "id": "728aa3c7-80d8-4e7c-aa75-87d09aab6af5",
   "metadata": {},
   "outputs": [
    {
     "name": "stdout",
     "output_type": "stream",
     "text": [
      "Accuracy score:  0.6111111111111112\n",
      "Precision score:  0.6082554517133957\n",
      "Recall score:  0.6243005595523581\n",
      "F1 score:  0.6161735700197238\n"
     ]
    }
   ],
   "source": [
    "#Import the DecisionTreeeClassifier\n",
    "from sklearn.tree import DecisionTreeClassifier\n",
    "#Initialize the model\n",
    "clf_decision_word2vec = DecisionTreeClassifier()\n",
    "clf_decision_word2vec.fit(x_train_transformed, Y_train)\n",
    "Y_pred2 = clf_decision_word2vec.predict(x_test_transformed)\n",
    "from sklearn.metrics import accuracy_score,precision_score,recall_score,f1_score\n",
    "print('Accuracy score: ', format(accuracy_score(Y_pred2,Y_test )))\n",
    "print('Precision score: ', format(precision_score(Y_test,Y_pred2)))\n",
    "print('Recall score: ', format(recall_score(Y_test, Y_pred2)))\n",
    "print('F1 score: ', format(f1_score(Y_test, Y_pred2)))"
   ]
  },
  {
   "cell_type": "code",
   "execution_count": 31,
   "id": "bd7d79e0-549f-4a03-bf2e-6d328f38aa06",
   "metadata": {},
   "outputs": [],
   "source": [
    "from sklearn.linear_model import LogisticRegression"
   ]
  },
  {
   "cell_type": "code",
   "execution_count": 32,
   "id": "535a04b9-4005-41a3-aaad-15a726c3d693",
   "metadata": {},
   "outputs": [],
   "source": [
    "lr = LogisticRegression()\n",
    "lr.fit(x_train_transformed, Y_train)\n",
    "lrpredicted = lr.predict(x_test_transformed)"
   ]
  },
  {
   "cell_type": "code",
   "execution_count": 33,
   "id": "48a633a4-cc6f-44b4-b565-0306f608f448",
   "metadata": {},
   "outputs": [
    {
     "name": "stdout",
     "output_type": "stream",
     "text": [
      "Accuracy score:  0.7086330935251799\n",
      "Precision score:  0.7277486910994765\n",
      "Recall score:  0.6666666666666666\n",
      "F1 score:  0.6958698372966208\n"
     ]
    }
   ],
   "source": [
    "from sklearn.metrics import accuracy_score,precision_score,recall_score,f1_score\n",
    "lr_accuracy = accuracy_score(lrpredicted,Y_test )\n",
    "print('Accuracy score: ', format(accuracy_score(lrpredicted,Y_test )))\n",
    "print('Precision score: ', format(precision_score(Y_test,lrpredicted)))\n",
    "print('Recall score: ', format(recall_score(Y_test, lrpredicted)))\n",
    "print('F1 score: ', format(f1_score(Y_test, lrpredicted)))"
   ]
  }
 ],
 "metadata": {
  "kernelspec": {
   "display_name": "Python 3 (ipykernel)",
   "language": "python",
   "name": "python3"
  },
  "language_info": {
   "codemirror_mode": {
    "name": "ipython",
    "version": 3
   },
   "file_extension": ".py",
   "mimetype": "text/x-python",
   "name": "python",
   "nbconvert_exporter": "python",
   "pygments_lexer": "ipython3",
   "version": "3.9.7"
  }
 },
 "nbformat": 4,
 "nbformat_minor": 5
}
