{
 "cells": [
  {
   "cell_type": "code",
   "execution_count": 12,
   "id": "c0b5dace-a4d2-4cb5-ae91-91109611f2c1",
   "metadata": {},
   "outputs": [
    {
     "name": "stdout",
     "output_type": "stream",
     "text": [
      "Collecting gensim\n",
      "  Downloading gensim-4.1.2-cp39-cp39-win_amd64.whl (24.0 MB)\n",
      "Requirement already satisfied: scipy>=0.18.1 in c:\\users\\admin\\anaconda3\\lib\\site-packages (from gensim) (1.7.1)\n",
      "Collecting Cython==0.29.23\n",
      "  Downloading Cython-0.29.23-cp39-cp39-win_amd64.whl (1.7 MB)\n",
      "Collecting smart-open>=1.8.1\n",
      "  Using cached smart_open-5.2.1-py3-none-any.whl (58 kB)\n",
      "Requirement already satisfied: numpy>=1.17.0 in c:\\users\\admin\\anaconda3\\lib\\site-packages (from gensim) (1.20.3)\n",
      "Installing collected packages: smart-open, Cython, gensim\n",
      "  Attempting uninstall: Cython\n",
      "    Found existing installation: Cython 0.29.24\n",
      "    Uninstalling Cython-0.29.24:\n",
      "      Successfully uninstalled Cython-0.29.24\n",
      "Successfully installed Cython-0.29.23 gensim-4.1.2 smart-open-5.2.1\n"
     ]
    }
   ],
   "source": [
    "!pip install -U gensim"
   ]
  },
  {
   "cell_type": "code",
   "execution_count": 78,
   "id": "9d39e872-bfb3-4d41-a32f-605ecb7430c5",
   "metadata": {},
   "outputs": [],
   "source": [
    "import pandas as pd\n",
    "from sklearn.model_selection import train_test_split\n",
    "from gensim.models import Word2Vec\n",
    "from tqdm import tqdm\n",
    "import numpy as np\n",
    "from sklearn.model_selection import RandomizedSearchCV\n",
    "from sklearn.neighbors import KNeighborsClassifier\n",
    "from sklearn.metrics import roc_curve, auc,classification_report,confusion_matrix\n",
    "import matplotlib.pyplot as plt\n",
    "import seaborn as sns"
   ]
  },
  {
   "cell_type": "code",
   "execution_count": 79,
   "id": "d8e92949-1b8b-483e-8cd4-25797c3d5a57",
   "metadata": {},
   "outputs": [],
   "source": [
    "spam_data = pd.read_csv('spam_home_kitchen.csv')"
   ]
  },
  {
   "cell_type": "code",
   "execution_count": 80,
   "id": "abc8d20a-35ac-49ef-b1b5-51284951885f",
   "metadata": {},
   "outputs": [
    {
     "data": {
      "text/html": [
       "<div>\n",
       "<style scoped>\n",
       "    .dataframe tbody tr th:only-of-type {\n",
       "        vertical-align: middle;\n",
       "    }\n",
       "\n",
       "    .dataframe tbody tr th {\n",
       "        vertical-align: top;\n",
       "    }\n",
       "\n",
       "    .dataframe thead th {\n",
       "        text-align: right;\n",
       "    }\n",
       "</style>\n",
       "<table border=\"1\" class=\"dataframe\">\n",
       "  <thead>\n",
       "    <tr style=\"text-align: right;\">\n",
       "      <th></th>\n",
       "      <th>Unnamed: 0</th>\n",
       "      <th>Processed Text</th>\n",
       "      <th>class</th>\n",
       "    </tr>\n",
       "  </thead>\n",
       "  <tbody>\n",
       "    <tr>\n",
       "      <th>0</th>\n",
       "      <td>0</td>\n",
       "      <td>recommend great chef test cook cooking tool ea...</td>\n",
       "      <td>1.0</td>\n",
       "    </tr>\n",
       "    <tr>\n",
       "      <th>1</th>\n",
       "      <td>1</td>\n",
       "      <td>great pump work perfectly happy purchase thank...</td>\n",
       "      <td>1.0</td>\n",
       "    </tr>\n",
       "    <tr>\n",
       "      <th>2</th>\n",
       "      <td>2</td>\n",
       "      <td>beauty function saw pattern online corelle sco...</td>\n",
       "      <td>1.0</td>\n",
       "    </tr>\n",
       "    <tr>\n",
       "      <th>3</th>\n",
       "      <td>3</td>\n",
       "      <td>red neck wine glass wonderful use wedding toas...</td>\n",
       "      <td>1.0</td>\n",
       "    </tr>\n",
       "    <tr>\n",
       "      <th>4</th>\n",
       "      <td>4</td>\n",
       "      <td>stay away handle body make cheap plastic never...</td>\n",
       "      <td>0.0</td>\n",
       "    </tr>\n",
       "  </tbody>\n",
       "</table>\n",
       "</div>"
      ],
      "text/plain": [
       "   Unnamed: 0                                     Processed Text  class\n",
       "0           0  recommend great chef test cook cooking tool ea...    1.0\n",
       "1           1  great pump work perfectly happy purchase thank...    1.0\n",
       "2           2  beauty function saw pattern online corelle sco...    1.0\n",
       "3           3  red neck wine glass wonderful use wedding toas...    1.0\n",
       "4           4  stay away handle body make cheap plastic never...    0.0"
      ]
     },
     "execution_count": 80,
     "metadata": {},
     "output_type": "execute_result"
    }
   ],
   "source": [
    "spam_data.head()"
   ]
  },
  {
   "cell_type": "code",
   "execution_count": 84,
   "id": "060f6e28-fad2-4cf5-87ef-6eb24bd177ec",
   "metadata": {},
   "outputs": [
    {
     "name": "stdout",
     "output_type": "stream",
     "text": [
      "13960\n",
      "2865\n",
      "11095\n",
      "2865\n"
     ]
    },
    {
     "data": {
      "text/html": [
       "<div>\n",
       "<style scoped>\n",
       "    .dataframe tbody tr th:only-of-type {\n",
       "        vertical-align: middle;\n",
       "    }\n",
       "\n",
       "    .dataframe tbody tr th {\n",
       "        vertical-align: top;\n",
       "    }\n",
       "\n",
       "    .dataframe thead th {\n",
       "        text-align: right;\n",
       "    }\n",
       "</style>\n",
       "<table border=\"1\" class=\"dataframe\">\n",
       "  <thead>\n",
       "    <tr style=\"text-align: right;\">\n",
       "      <th></th>\n",
       "      <th>Unnamed: 0</th>\n",
       "      <th>Processed Text</th>\n",
       "      <th>class</th>\n",
       "    </tr>\n",
       "  </thead>\n",
       "  <tbody>\n",
       "    <tr>\n",
       "      <th>5730</th>\n",
       "      <td>5730</td>\n",
       "      <td>perfect perfect go dip clean easily cover let ...</td>\n",
       "      <td>1.0</td>\n",
       "    </tr>\n",
       "    <tr>\n",
       "      <th>9578</th>\n",
       "      <td>9578</td>\n",
       "      <td>nut bolt miss receive package nut bolt miss as...</td>\n",
       "      <td>1.0</td>\n",
       "    </tr>\n",
       "    <tr>\n",
       "      <th>12876</th>\n",
       "      <td>12876</td>\n",
       "      <td>lovely cup bought cousin denmark present bioch...</td>\n",
       "      <td>1.0</td>\n",
       "    </tr>\n",
       "    <tr>\n",
       "      <th>8029</th>\n",
       "      <td>8029</td>\n",
       "      <td>knew wife bought trash first thought earth wou...</td>\n",
       "      <td>1.0</td>\n",
       "    </tr>\n",
       "    <tr>\n",
       "      <th>9832</th>\n",
       "      <td>9832</td>\n",
       "      <td>good small four star size look nice good quali...</td>\n",
       "      <td>1.0</td>\n",
       "    </tr>\n",
       "    <tr>\n",
       "      <th>...</th>\n",
       "      <td>...</td>\n",
       "      <td>...</td>\n",
       "      <td>...</td>\n",
       "    </tr>\n",
       "    <tr>\n",
       "      <th>7820</th>\n",
       "      <td>7820</td>\n",
       "      <td>like get much faster thought look nice item fi...</td>\n",
       "      <td>1.0</td>\n",
       "    </tr>\n",
       "    <tr>\n",
       "      <th>1012</th>\n",
       "      <td>1012</td>\n",
       "      <td>worth price hesitant pay much iron machine one...</td>\n",
       "      <td>1.0</td>\n",
       "    </tr>\n",
       "    <tr>\n",
       "      <th>7745</th>\n",
       "      <td>7745</td>\n",
       "      <td>microwave splatter screen use time easy clean ...</td>\n",
       "      <td>1.0</td>\n",
       "    </tr>\n",
       "    <tr>\n",
       "      <th>7921</th>\n",
       "      <td>7921</td>\n",
       "      <td>heavy great tad heavy stair stuff great vacuum...</td>\n",
       "      <td>1.0</td>\n",
       "    </tr>\n",
       "    <tr>\n",
       "      <th>9878</th>\n",
       "      <td>9878</td>\n",
       "      <td>useful cabinet cookbook holder love item attra...</td>\n",
       "      <td>1.0</td>\n",
       "    </tr>\n",
       "  </tbody>\n",
       "</table>\n",
       "<p>2865 rows × 3 columns</p>\n",
       "</div>"
      ],
      "text/plain": [
       "       Unnamed: 0                                     Processed Text  class\n",
       "5730         5730  perfect perfect go dip clean easily cover let ...    1.0\n",
       "9578         9578  nut bolt miss receive package nut bolt miss as...    1.0\n",
       "12876       12876  lovely cup bought cousin denmark present bioch...    1.0\n",
       "8029         8029  knew wife bought trash first thought earth wou...    1.0\n",
       "9832         9832  good small four star size look nice good quali...    1.0\n",
       "...           ...                                                ...    ...\n",
       "7820         7820  like get much faster thought look nice item fi...    1.0\n",
       "1012         1012  worth price hesitant pay much iron machine one...    1.0\n",
       "7745         7745  microwave splatter screen use time easy clean ...    1.0\n",
       "7921         7921  heavy great tad heavy stair stuff great vacuum...    1.0\n",
       "9878         9878  useful cabinet cookbook holder love item attra...    1.0\n",
       "\n",
       "[2865 rows x 3 columns]"
      ]
     },
     "execution_count": 84,
     "metadata": {},
     "output_type": "execute_result"
    }
   ],
   "source": [
    "class_0 = spam_data[spam_data['class']==0.]\n",
    "print(len(spam_data))\n",
    "print(len(class_0))\n",
    "class_1 = spam_data[spam_data['class']==1.]\n",
    "print(len(class_1))\n",
    "class_1 = class_1.sample(n = len(class_0))\n",
    "print(len(class_1))\n",
    "class_1"
   ]
  },
  {
   "cell_type": "code",
   "execution_count": 86,
   "id": "36c509ef-9f0d-4f13-b8ac-2d7701d0005f",
   "metadata": {},
   "outputs": [],
   "source": [
    "reb_data = pd.concat((class_0,class_1)).reset_index(drop=True)"
   ]
  },
  {
   "cell_type": "code",
   "execution_count": 87,
   "id": "b75b402f-38e9-4abe-82b7-1da0d6c57c4d",
   "metadata": {},
   "outputs": [],
   "source": [
    "X_train = reb_data['Processed Text']\n",
    "Y_train = reb_data['class']"
   ]
  },
  {
   "cell_type": "code",
   "execution_count": 88,
   "id": "5c345049-b22c-4775-b4e9-3611b03dfc56",
   "metadata": {},
   "outputs": [
    {
     "name": "stderr",
     "output_type": "stream",
     "text": [
      "100%|███████████████████████████████| 9772/9772 [00:00<00:00, 141704.46it/s]\n"
     ]
    }
   ],
   "source": [
    "words_in_sentences=[]\n",
    "for i in tqdm(x_train):\n",
    "    words_in_sentences.append(i.split())"
   ]
  },
  {
   "cell_type": "code",
   "execution_count": 89,
   "id": "688713de-8394-4c53-9c25-f00a9aab3535",
   "metadata": {},
   "outputs": [],
   "source": [
    "model = Word2Vec(sentences=words_in_sentences,vector_size = 300)"
   ]
  },
  {
   "cell_type": "code",
   "execution_count": 90,
   "id": "3e4652c7-13eb-4fa9-b3f7-330f6a29b393",
   "metadata": {},
   "outputs": [
    {
     "name": "stdout",
     "output_type": "stream",
     "text": [
      "4630\n"
     ]
    }
   ],
   "source": [
    "#Total number of words in the Vocabulary on which the Word2Vec model is trained.\n",
    "vocab=list(model.wv.key_to_index.keys())\n",
    "print(len(vocab))"
   ]
  },
  {
   "cell_type": "code",
   "execution_count": 91,
   "id": "c3bc4210-db32-4099-af40-acbb84480327",
   "metadata": {},
   "outputs": [],
   "source": [
    "#Average Word2Vec is a technique in which the average of word embeddings of all the words given in a sentence is used as the numerical vector for a given sentence.\n",
    "def avg_w2vec(sentences):\n",
    "    transformed=[]\n",
    "    for sentence in tqdm(sentences):\n",
    "        count=0\n",
    "        vector=np.zeros(300)\n",
    "        for word in sentence.split():\n",
    "            if word in vocab:\n",
    "                vector+=model.wv.get_vector(word)\n",
    "                count+=1\n",
    "        if count!=0:\n",
    "            vector/=count\n",
    "            transformed.append(vector)\n",
    "        else:\n",
    "            print(sentence)\n",
    "    return np.array(transformed)"
   ]
  },
  {
   "cell_type": "code",
   "execution_count": 92,
   "id": "9c3ae8eb-6367-4905-9976-33ab26959f05",
   "metadata": {},
   "outputs": [
    {
     "name": "stderr",
     "output_type": "stream",
     "text": [
      "100%|██████████████████████████████████| 9772/9772 [00:10<00:00, 951.32it/s]\n",
      "100%|██████████████████████████████████| 4188/4188 [00:04<00:00, 888.93it/s]\n"
     ]
    }
   ],
   "source": [
    "x_train_transformed=avg_w2vec(x_train)\n",
    "x_test_transformed=avg_w2vec(x_test)"
   ]
  },
  {
   "cell_type": "code",
   "execution_count": 93,
   "id": "28f46a21-d05b-4fda-a962-9786f487d24d",
   "metadata": {},
   "outputs": [
    {
     "name": "stderr",
     "output_type": "stream",
     "text": [
      "C:\\Users\\Admin\\anaconda3\\lib\\site-packages\\sklearn\\model_selection\\_search.py:285: UserWarning: The total space of parameters 6 is smaller than n_iter=10. Running 6 iterations. For exhaustive searches, use GridSearchCV.\n",
      "  warnings.warn(\n"
     ]
    },
    {
     "name": "stdout",
     "output_type": "stream",
     "text": [
      "Fitting 5 folds for each of 6 candidates, totalling 30 fits\n"
     ]
    },
    {
     "data": {
      "text/plain": [
       "RandomizedSearchCV(estimator=KNeighborsClassifier(), n_jobs=-1,\n",
       "                   param_distributions={'metric': ['manhattan'],\n",
       "                                        'n_neighbors': [10, 20, 30, 40, 50,\n",
       "                                                        60]},\n",
       "                   random_state=0, verbose=1)"
      ]
     },
     "execution_count": 93,
     "metadata": {},
     "output_type": "execute_result"
    }
   ],
   "source": [
    "#Using K-Nearest Neighbors Algorithm to predict whether a given review is Spam or not\n",
    "grid_params = { 'n_neighbors' : [10,20,30,40,50,60],\n",
    "               'metric' : ['manhattan']}\n",
    "knn=KNeighborsClassifier()\n",
    "clf = RandomizedSearchCV(knn, grid_params, random_state=0,n_jobs=-1,verbose=1)\n",
    "clf.fit(x_train_transformed,y_train)"
   ]
  },
  {
   "cell_type": "code",
   "execution_count": 94,
   "id": "1bc91366-81be-4546-b300-5ac83bf337b8",
   "metadata": {},
   "outputs": [
    {
     "data": {
      "text/plain": [
       "{'n_neighbors': 20, 'metric': 'manhattan'}"
      ]
     },
     "execution_count": 94,
     "metadata": {},
     "output_type": "execute_result"
    }
   ],
   "source": [
    "clf.best_params_"
   ]
  },
  {
   "cell_type": "code",
   "execution_count": 95,
   "id": "d7a1dd7b-f346-45cf-ad07-a02df645548f",
   "metadata": {},
   "outputs": [
    {
     "data": {
      "text/plain": [
       "0.8140603706214808"
      ]
     },
     "execution_count": 95,
     "metadata": {},
     "output_type": "execute_result"
    }
   ],
   "source": [
    "clf.best_score_"
   ]
  },
  {
   "cell_type": "code",
   "execution_count": 96,
   "id": "7a765f11-bccc-4fbd-9cb1-090702a748fd",
   "metadata": {},
   "outputs": [
    {
     "data": {
      "text/plain": [
       "{'mean_fit_time': array([0.04037681, 0.04377542, 0.04597354, 0.04657407, 0.04717312,\n",
       "        0.04777169]),\n",
       " 'std_fit_time': array([0.00119928, 0.00193798, 0.0019989 , 0.00392641, 0.00183226,\n",
       "        0.00483041]),\n",
       " 'mean_score_time': array([15.35236478, 15.38234739, 15.69736748, 15.30239429, 15.04254317,\n",
       "        12.01228704]),\n",
       " 'std_score_time': array([0.13269666, 0.23038633, 0.2553186 , 0.43303497, 1.31245813,\n",
       "        0.35125329]),\n",
       " 'param_n_neighbors': masked_array(data=[10, 20, 30, 40, 50, 60],\n",
       "              mask=[False, False, False, False, False, False],\n",
       "        fill_value='?',\n",
       "             dtype=object),\n",
       " 'param_metric': masked_array(data=['manhattan', 'manhattan', 'manhattan', 'manhattan',\n",
       "                    'manhattan', 'manhattan'],\n",
       "              mask=[False, False, False, False, False, False],\n",
       "        fill_value='?',\n",
       "             dtype=object),\n",
       " 'params': [{'n_neighbors': 10, 'metric': 'manhattan'},\n",
       "  {'n_neighbors': 20, 'metric': 'manhattan'},\n",
       "  {'n_neighbors': 30, 'metric': 'manhattan'},\n",
       "  {'n_neighbors': 40, 'metric': 'manhattan'},\n",
       "  {'n_neighbors': 50, 'metric': 'manhattan'},\n",
       "  {'n_neighbors': 60, 'metric': 'manhattan'}],\n",
       " 'split0_test_score': array([0.80153453, 0.8173913 , 0.81636829, 0.81176471, 0.81534527,\n",
       "        0.81023018]),\n",
       " 'split1_test_score': array([0.80971867, 0.81278772, 0.81381074, 0.81227621, 0.8112532 ,\n",
       "        0.81176471]),\n",
       " 'split2_test_score': array([0.7988741 , 0.81422723, 0.81269191, 0.80962129, 0.8111566 ,\n",
       "        0.80910952]),\n",
       " 'split3_test_score': array([0.80399181, 0.8198567 , 0.81269191, 0.81320368, 0.814739  ,\n",
       "        0.81371546]),\n",
       " 'split4_test_score': array([0.79426817, 0.80603889, 0.80910952, 0.81218014, 0.80910952,\n",
       "        0.80962129]),\n",
       " 'mean_test_score': array([0.80167746, 0.81406037, 0.81293448, 0.81180921, 0.81232072,\n",
       "        0.81088823]),\n",
       " 'std_test_score': array([0.00515353, 0.00470498, 0.00233696, 0.00119073, 0.00235807,\n",
       "        0.00167113]),\n",
       " 'rank_test_score': array([6, 1, 2, 4, 3, 5])}"
      ]
     },
     "execution_count": 96,
     "metadata": {},
     "output_type": "execute_result"
    }
   ],
   "source": [
    "clf.cv_results_"
   ]
  },
  {
   "cell_type": "code",
   "execution_count": 97,
   "id": "2c9a8504-3946-4311-be80-7ca56b2b8896",
   "metadata": {},
   "outputs": [],
   "source": [
    "train_fpr,train_tpr,thresholds=roc_curve(y_train,clf.predict_proba(x_train_transformed)[:,1])\n",
    "test_fpr,test_tpr,thresholds=roc_curve(y_test,clf.predict_proba(x_test_transformed)[:,1])"
   ]
  },
  {
   "cell_type": "code",
   "execution_count": 98,
   "id": "cf78f22d-c883-442d-837b-6ac94e75fb30",
   "metadata": {},
   "outputs": [
    {
     "data": {
      "image/png": "[encoded data removed]",
      "text/plain": [
       "<Figure size 432x288 with 1 Axes>"
      ]
     },
     "metadata": {
      "needs_background": "light"
     },
     "output_type": "display_data"
    }
   ],
   "source": [
    "\n",
    "plt.plot(train_fpr,train_tpr,label=\"Training Accuracy=\"+str(round(auc(train_fpr, train_tpr),2)))\n",
    "plt.plot(test_fpr,test_tpr,label=\"Testing Accuracy =\"+str(round(auc(test_fpr, test_tpr),2)))\n",
    "plt.scatter(train_fpr,train_tpr,label=\"Training Accuracy=\"+str(round(auc(train_fpr, train_tpr),2)))\n",
    "plt.scatter(test_fpr,test_tpr,label=\"Testing Accuracy =\"+str(round(auc(test_fpr, test_tpr),2)))\n",
    "plt.legend()\n",
    "plt.xlabel(\"Thresholds\")\n",
    "plt.ylabel(\"ACCURACY\")\n",
    "plt.title(\"Training and Testing ROC Curves\")\n",
    "plt.show()"
   ]
  },
  {
   "cell_type": "code",
   "execution_count": 99,
   "id": "75de906d-4e1b-4e79-8d1f-56fa33bd8bb2",
   "metadata": {},
   "outputs": [
    {
     "data": {
      "image/png": "[encoded data removed]",
      "text/plain": [
       "<Figure size 432x288 with 2 Axes>"
      ]
     },
     "metadata": {
      "needs_background": "light"
     },
     "output_type": "display_data"
    }
   ],
   "source": [
    "sns.heatmap(confusion_matrix(y_train,clf.predict(x_train_transformed)),annot=True)\n",
    "plt.show()"
   ]
  },
  {
   "cell_type": "code",
   "execution_count": 100,
   "id": "27a7df40-f7c3-46cf-b74d-5f7a30832a1e",
   "metadata": {},
   "outputs": [
    {
     "name": "stdout",
     "output_type": "stream",
     "text": [
      "              precision    recall  f1-score   support\n",
      "\n",
      "         0.0       0.70      0.29      0.41      2006\n",
      "         1.0       0.84      0.97      0.90      7766\n",
      "\n",
      "    accuracy                           0.83      9772\n",
      "   macro avg       0.77      0.63      0.65      9772\n",
      "weighted avg       0.81      0.83      0.80      9772\n",
      "\n"
     ]
    }
   ],
   "source": [
    "print(classification_report(y_train,clf.predict(x_train_transformed)))"
   ]
  },
  {
   "cell_type": "code",
   "execution_count": 101,
   "id": "c126d10e-1bc4-4f4e-8452-bfb127c3025c",
   "metadata": {},
   "outputs": [
    {
     "data": {
      "image/png": "[encoded data removed]",
      "text/plain": [
       "<Figure size 432x288 with 2 Axes>"
      ]
     },
     "metadata": {
      "needs_background": "light"
     },
     "output_type": "display_data"
    }
   ],
   "source": [
    "sns.heatmap(confusion_matrix(y_test,clf.predict(x_test_transformed)),annot=True)\n",
    "plt.show()"
   ]
  },
  {
   "cell_type": "code",
   "execution_count": 102,
   "id": "1ebebbe1-0c6a-466a-b78b-69d815baebd2",
   "metadata": {},
   "outputs": [
    {
     "name": "stdout",
     "output_type": "stream",
     "text": [
      "              precision    recall  f1-score   support\n",
      "\n",
      "         0.0       0.67      0.30      0.41       859\n",
      "         1.0       0.84      0.96      0.90      3329\n",
      "\n",
      "    accuracy                           0.83      4188\n",
      "   macro avg       0.75      0.63      0.65      4188\n",
      "weighted avg       0.81      0.83      0.80      4188\n",
      "\n"
     ]
    }
   ],
   "source": [
    "print(classification_report(y_test,clf.predict(x_test_transformed)))"
   ]
  }
 ],
 "metadata": {
  "kernelspec": {
   "display_name": "Python 3 (ipykernel)",
   "language": "python",
   "name": "python3"
  },
  "language_info": {
   "codemirror_mode": {
    "name": "ipython",
    "version": 3
   },
   "file_extension": ".py",
   "mimetype": "text/x-python",
   "name": "python",
   "nbconvert_exporter": "python",
   "pygments_lexer": "ipython3",
   "version": "3.9.7"
  }
 },
 "nbformat": 4,
 "nbformat_minor": 5
}
