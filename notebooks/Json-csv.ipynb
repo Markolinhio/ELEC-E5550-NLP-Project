{
 "cells": [
  {
   "cell_type": "code",
   "execution_count": 1,
   "id": "a60bca97-a102-44f5-a536-929e765b89eb",
   "metadata": {},
   "outputs": [],
   "source": [
    "import numpy as np\n",
    "import pandas as pd\n",
    "import matplotlib.pyplot as plt\n",
    "import seaborn as sns\n",
    "\n",
    "from pathlib import Path\n",
    "import json\n",
    "import os"
   ]
  },
  {
   "cell_type": "code",
   "execution_count": 2,
   "id": "db1fe7a0-6e70-4b41-95cb-9f47a180ce90",
   "metadata": {},
   "outputs": [
    {
     "data": {
      "text/plain": [
       "['spam_sport.csv',\n",
       " 'text_sports.csv',\n",
       " 'Home_and_Kitchen.json',\n",
       " 'models',\n",
       " 'spam_sports.csv_tok',\n",
       " 'spam_sports.csv',\n",
       " 'Home_and_Kitchen extra.json',\n",
       " 'Sports_and_Outdoors.csv',\n",
       " 'Sports_and_Outdoors extra.json',\n",
       " 'Sports_and_Outdoors extra.csv',\n",
       " 'Sports_and_Outdoors.json',\n",
       " 'text_sports_balanced.csv',\n",
       " '.ipynb_checkpoints',\n",
       " 'text_sports_test.csv',\n",
       " 'spam_sports_test.csv',\n",
       " 'spam_sports_balanced.csv']"
      ]
     },
     "execution_count": 2,
     "metadata": {},
     "output_type": "execute_result"
    }
   ],
   "source": [
    "path = Path('/home/khoa-ys/Projects/NLP Project')\n",
    "data_path = path/'data'\n",
    "os.listdir(data_path)"
   ]
  },
  {
   "cell_type": "markdown",
   "id": "08d73dcd-cb72-432d-b40c-5a9203feee08",
   "metadata": {},
   "source": [
    "# Import json and export data as csv"
   ]
  },
  {
   "cell_type": "markdown",
   "id": "e60a9d61-9c8f-4439-a5f2-cf776dddb193",
   "metadata": {},
   "source": [
    "## Import extra data to enrich class 0"
   ]
  },
  {
   "cell_type": "code",
   "execution_count": null,
   "id": "6f8b1d67-b376-485c-b3df-c7b795b60737",
   "metadata": {},
   "outputs": [],
   "source": [
    "extra_data = [json.loads(line) for line in open(data_path/'Sports_and_Outdoors extra.json', 'r')]\n",
    "extra_data[0]"
   ]
  },
  {
   "cell_type": "code",
   "execution_count": null,
   "id": "6b15279a-197f-4dd4-851f-4a64a9c3b2fb",
   "metadata": {},
   "outputs": [],
   "source": [
    "extra_data = pd.DataFrame(extra_data)\n",
    "extra_data = extra_data[['summary', 'reviewText', 'overall']]\n",
    "extra_data.to_csv(data_path/'Home_and_Kitchen extra.csv', index='_id')\n",
    "extra_data"
   ]
  },
  {
   "cell_type": "markdown",
   "id": "45e8f95d-4e2d-4c08-855d-9e1c4c2c8084",
   "metadata": {},
   "source": [
    "## Import data"
   ]
  },
  {
   "cell_type": "code",
   "execution_count": null,
   "id": "c5e853f8-10ba-408e-81ee-86609a43b2d1",
   "metadata": {},
   "outputs": [],
   "source": [
    "data = [json.loads(line) for line in open(data_path/'Sports_and_Outdoors.json', 'r')]\n",
    "data[0]"
   ]
  },
  {
   "cell_type": "code",
   "execution_count": null,
   "id": "00211979-2d42-4f07-b85c-703daee6d49b",
   "metadata": {},
   "outputs": [],
   "source": [
    "data = pd.DataFrame(data)\n",
    "data['_id'] = data['_id'].map(lambda value : value['$oid'])\n",
    "data.to_csv(data_path/'Sports_and_Outdoors.csv', index='_id')\n",
    "data"
   ]
  }
 ],
 "metadata": {
  "kernelspec": {
   "display_name": "Python 3 (ipykernel)",
   "language": "python",
   "name": "python3"
  },
  "language_info": {
   "codemirror_mode": {
    "name": "ipython",
    "version": 3
   },
   "file_extension": ".py",
   "mimetype": "text/x-python",
   "name": "python",
   "nbconvert_exporter": "python",
   "pygments_lexer": "ipython3",
   "version": "3.8.10"
  }
 },
 "nbformat": 4,
 "nbformat_minor": 5
}
